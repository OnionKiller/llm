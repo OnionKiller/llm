{
 "cells": [
  {
   "cell_type": "code",
   "execution_count": 2,
   "metadata": {},
   "outputs": [],
   "source": [
    "from tqdm.auto import tqdm"
   ]
  },
  {
   "cell_type": "code",
   "execution_count": 3,
   "metadata": {},
   "outputs": [],
   "source": [
    "import ctranslate2\n",
    "import transformers\n",
    "from pathlib import Path\n",
    "\n",
    "translator = ctranslate2.Translator(\"madlad400-7b-mt-bt-ct2-int8_float16\", compute_type=\"auto\")\n",
    "tokenizer = transformers.AutoTokenizer.from_pretrained(\"jbochi/madlad400-7b-mt-bt\")"
   ]
  },
  {
   "cell_type": "code",
   "execution_count": 4,
   "metadata": {},
   "outputs": [],
   "source": [
    "def translate(input_text):\n",
    "    prefix = \"<2en> \"\n",
    "    input_text = str(input_text).replace('\\n','')\n",
    "    input_tokens  = tokenizer.convert_ids_to_tokens(tokenizer.encode(prefix + input_text))\n",
    "\n",
    "    results = translator.translate_batch([input_tokens])\n",
    "\n",
    "    output_tokens = results[0].hypotheses[0]\n",
    "    output_text = tokenizer.decode(tokenizer.convert_tokens_to_ids(output_tokens))\n",
    "    text_start = '\\n' if input_text[0] == '\\n' else ' '\n",
    "    return text_start+output_text"
   ]
  },
  {
   "cell_type": "code",
   "execution_count": 5,
   "metadata": {},
   "outputs": [],
   "source": [
    "def handle_items(items):\n",
    "    if len(items.children) != 0:\n",
    "        for i in items.children:\n",
    "            handle_items(i)\n",
    "    if items.name == 'item':\n",
    "        for i in range(len(items.text)):\n",
    "            try:\n",
    "                if items[i].text == '\\\\\\\\':\n",
    "                    continue\n",
    "            except IndexError:\n",
    "                continue\n",
    "            if hasattr(items[i], 'name'):\n",
    "                continue\n",
    "            items[i].text = translate(items[i].text)\n",
    "\n"
   ]
  },
  {
   "cell_type": "code",
   "execution_count": 6,
   "metadata": {},
   "outputs": [],
   "source": [
    "def handle_text(node):\n",
    "    name = node.name\n",
    "    if name in ['chapter','section','text']:\n",
    "        if len(node.text) == 0:\n",
    "            return\n",
    "        if node.text[0][0] == '%':\n",
    "            return\n",
    "        print(node.text)\n",
    "        node[0].text = '\\n'+translate(node[0].text)\n",
    "    if name == 'figure':\n",
    "        if len(node.caption.text) == 1:\n",
    "            node.caption.string = translate(node.caption.string)\n",
    "        else:\n",
    "            node.caption[0].text = translate(node.caption[0].text)\n",
    "\n",
    "    if name == \"itemize\":\n",
    "        handle_items(node)\n",
    "\n",
    "    if len(name) > 300:\n",
    "        node.name = translate(node.name)"
   ]
  },
  {
   "cell_type": "code",
   "execution_count": 7,
   "metadata": {},
   "outputs": [],
   "source": [
    "with open(Path('Diplomaterv/content/1_irodalom.tex'),'r',encoding='utf-8') as f:\n",
    "    text = f.read()"
   ]
  },
  {
   "cell_type": "code",
   "execution_count": 8,
   "metadata": {},
   "outputs": [],
   "source": [
    "from TexSoup import TexSoup\n",
    "soup = TexSoup(text, tolerance=1)"
   ]
  },
  {
   "cell_type": "code",
   "execution_count": 9,
   "metadata": {},
   "outputs": [
    {
     "data": {
      "application/vnd.jupyter.widget-view+json": {
       "model_id": "d109770a6302478ba82708b574fdf8dc",
       "version_major": 2,
       "version_minor": 0
      },
      "text/plain": [
       "  0%|          | 0/95 [00:00<?, ?it/s]"
      ]
     },
     "metadata": {},
     "output_type": "display_data"
    },
    {
     "name": "stdout",
     "output_type": "stream",
     "text": [
      "['Előzmények']\n",
      "['Földmegfigyelés']\n",
      "['\\nA földmegfigyelés feladata, hogy bolygónk felületéről minél pontosabb képet alkosson különböző technológiák segítségével. A legelterjedtebb módszer földmegfigyelésre különböző távérzékelési technológiák alkalmazása, a dolgozatomban kizárólag ilyen technológiákkal fogok foglalkozni. A telekommunikációs- és űrtechnológiák fejlődésével párhuzamosan egyre több műhold pásztázza a Földet, ami növeli a rendelkezésre álló adatok mennyiségét. Ezt az adatmennyiséget tovább növeli a drónok és egyéb olcsón elérhető repülő eszközök elterjedése, ami a földmegfigyeléshez használható nagy felbontású képek olcsó és gyors előállítását teszi lehetővé.\\nEzeknek az adatforrásoknak a rohamos növekedése számos informatikai és adatkezelési kihívás elé állította a földmegfigyeléssel foglalkozó kutatókat és szakembereket, emiatt számos technológiai újítás korai felhasználója a szakterület. Az így keletkező adattömegek segítségével különböző applikációk készíthetőek, melyek segítségével részletgazdag és precíz képet alkothatunk környezetünkről. Ezeknek az applikációknak a felhasználási területe nagyon széles, alkalmazzák többek között erdészeti és mezőgazdasági folyamatok támogatására, biodiverzitás és vegetáció vizsgálatára, időjárás és klíma vizsgálati módszereknél és előrejelzési, valamint katasztrófaelhárítási műveletek támogatására, továbbá harcászati alkalmazásokra.\\n\\nA földmegfigyelési módszerek által nyújtott lehetőségek segítenek a globális változások megfigyelésében és a gyorsan változó környezetünkhöz történő alkalmazkodásban.\\n\\nAz idősorok vizsgálatára alkalmas algoritmusok fejlődése segíthet többek között a klímaváltozáshoz kapcsolódó kérdések megválaszolásában is. Az így készült elemzések eredményei alapján megérthetik a szakemberek, hogy hogyan változik a Föld felszíne, és mi okozza ezeket a változásokat, valamint ennek segítségével megtervezhetik, hogyan gazdálkodhatunk jobban az erőforrásainkkal, vagy hogyan reagálhatunk eredményesen egy esetleges természeti katasztrófára.\\n\\nA nagyszámú adatforrás többek között új, fúziós technológiák kialakítását igényli, amelyek segítségével akár különböző modalitású képek információit is ki lehet nyerni, ezzel még jobban kihasználva a modern képalkotási technológiák széles tárházát.\\n\\n\\n']\n",
      "['Földmegfigyelési módszerek']\n",
      "['\\nA földmegfigyelésnek két egymástól nagymértékben különböző formája létezik; a műholdas és a repülőgépek segítségével történő képalkotás. A két módszer közötti legnagyobb különbség a felbontásban található.\\n\\nMűholdas képalkotás esetén a képet az atmoszférán kívül keringő űrberendezés segítségével rögzítjük. Ebben az \\nesetben az atmoszféra egészén keresztül történik a képalkotás, ami bizonyos mértékig limitálja az elérhető\\nlegnagyobb optikai felbontást. A műholdról készült képek előnye, hogy Föld körüli keringésnek köszönhetően nagy területekről könnyen lehet rendszeresen képeket készíteni, egy adott területet periodikusan vizsgálni. Ugyanakkor \\nez a periodikusság hátránya is a módszernek, mivel nincsen lehetőség interaktív módon vagy bármilyen igénynek megfelelve tetszőleges időpontban képek rögzítésére. Az Európai Űrügynökség jelenleg több műholdat is üzemeltet, amelyeknek a rögzített képei ingyenesen elérhetőek. Ezek közül a legelterjedtebben használt a Sentinel-1 és Sentinel-2 műholdak (']\n",
      "[' ábra).\\n\\nJelenleg a legelterjedtebb módszer az atmoszférán felül történő képalkotásra az UAV (Unmanned Aerial Veichle) módszerrel történő képalkotás. Az elmúlt években az UAV techonlógiák rohamos fejlődésével egyre fejlettebb szenzorok lettek elérhetőek egyre nagyobb tömegek számára, így az UAV segítségével készített képek minősége is nagy mértékű javuláson ment keresztül. A legjelentősebb javulást a felbontásban és a geolokáció regisztrációjában érték el, ezzel egészen milliméter pontosságú pontfelhők kialakítását lehetővé téve. Az UAV képalkotás esetén szükség van a képek összeregisztrálására, az artifactok korrigálására és a georeferálás elkészítésére, emiatt egy kép elkészítése a műholdképekkel összevetve több munkát igényel. Ugyanakkor az UAV sokkal nagyobb precizitást nyújt, és kisebb pénzügyi befektetést igényel.\\n\\nVáltozásdetekciós feladatok esetén egy területről több különböző időpontban kell felvételt készíteni, amely felvételek között a különbség megállapítható. Az ilyen több időpontot tartalmazó adatokat multitemporális adatnak hívják.\\n\\n']\n",
      "['Adatforrások']\n",
      "['\\nA műholdakon történő képalkotáshoz két nagyobb képtípus köthető:\\n']\n",
      "['Sentinel-1']\n",
      "['\\nA Sentinel-1 műholdsorozatot az Európai Űrügynökség (ESA) a Copernicus program részeként bocsátotta fel ']\n",
      "['.  A  Sentinel-1 műholdak nélkülözhetetlen eszközként szolgálnak a különböző földmegfigyelési alkalmazások számára létfontosságú adatok szolgáltatásában. A műholdak a képalkotáshoz szintetikus apertúrájú radartechnológiát (SAR) használnak, ezzel lehetővé téve a Föld felszínének folyamatos, időjárási viszonyoktól független megfigyelését. Ezzel az egyik leghasznosabb földmegfigyelési forrásnak számítanak, mivel az optikai módszereket gyakran korlátozza a felhőtakaró.\\nEzek a képek létfontosságúak az olyan természeti katasztrófák, mint az árvizek, földrengések és vulkánkitörések megfigyeléséhez, valamint a növénytermesztés felméréséhez és az illegális tevékenységek felderítéséhez. A műholdak interferometrikus termékeket is készítenek, amelyek lehetővé teszik a felszín deformációinak milliméteres pontosságú mérését.\\n\\nA Sentinel-1 különböző üzemmódokban működik, amelyekkel különböző felhasználási eseteknek tud megfelelni ']\n",
      "['. Az első üzemmód, az Interferometric Wide Swath (IW), széles lefedettséget biztosít, átlagosan 250 kilométeres lefedettségi szélességgel. Ez az üzemmód ideális a nagyméretű változások, például az erdőirtás vagy jégtakaró dinamikájának megfigyelésére. A második üzemmód, az Extra Wide Swath (EW), 400 kilométeres szélességben mintavételez, így alkalmas hatalmas óceáni területek megfigyelésére, olajszennyeződések észlelésére és tengeri tevékenységek nyomon követésére. Hasonló funkcióra alkalmazhatóak a Wave (WV) nevű üzemmódban készített felvételek, amelyben a beeső sugarak polarizációját vizsgálja, így az óceán felszíni hullámainak és szélmintáinak rögzítésére alkalmazható, ami a tengeri előrejelzések és a tengeri műveletek szempontjából kulcsfontosságú.\\n\\nA Sentinel-1 emellett Stripmap (SM) üzemmódot is kínál, amely szűkebb, 80 kilométer széles sávokat figyel meg, cserébe nagy felbontású képeket készít. Ez az üzemmód különösen hasznos a részletes földtakaró-osztályozáshoz, a várostervezéshez és az infrastruktúra megfigyeléséhez. A dolgozatban használt adatok is ebben az üzemmódban készített felvételekből származnak. \\n\\n\\nA Sentinel-1 nyers felvételeinek feldolgozását és ebből a termékek előállítását az ESA és partnerszervezetei végzik, biztosítva ezzel az adatok magas minőségét, szabványosítását és megfelelő kalibrálását.\\nAz ESA a Sentinel-1 termékeknek három szintjét kínálja, amelyek mindegyike különböző szintű feldolgozást jelent. Ezek a termékszintek különböző felhasználói igényeknek felelnek meg, és egyre finomabb és speciálisabb adatokat szolgáltatnak ']\n",
      "['.\\n\\n0. szintű termékek: Ezek a Sentinel-1 műholdakból közvetlenül nyert nyers SAR-adattermékek. \\n\\n1. szintű termékek:\\nEzek a termékek 0. szintű adatokból származnak, miután alapvető feldolgozási lépéseken mennek keresztül, beleértve a kalibrálást, a radiometriai korrekciót és a geometriai igazítást.  Ezek a termékek magasabb szintű használhatóságot biztosítanak, és alkalmasak vizuális értelmezésre, változásérzékelésre és alapvető térképészeti alkalmazásokra. Az 1. szintű termékek közé tartoznak a Single Look Complex (SLC), Ground Range Detected (GRD) és Detected (DET) termékek. A GRD termékek fókuszáltak, kalibráltak és egy földtávolsági koordinátarendszerbe vetítettek, míg a DET termékek detektáltak és kalibráltak, és intenzitásinformációt szolgáltatnak. Ezek a termékek az SM, IW és EW módban készült adatokhoz érhetőek el.\\n\\n2. szintű termékek: A 2. szintű termékek az 1. szintű adatokból származnak, és speciális alkalmazási területekhez lettek létrehozva. Ezek a termékek kifejezetten tematikus alkalmazásokra vannak szabva, és gyakran tudományos kutatásra, környezeti megfigyelésre és döntéshozatali célokra használják őket. A 2. szintű termékek közé tartoznak a különböző származtatott termékek, például az interferometrikus koherencia, a terepkorrigált képek, a felszíni deformációs térképek, valamint az óceáni szél- és hullámparaméterek. Ezek magyarországi viszonylatban, főleg változásdetekciós szempontból, kevésbé érdekesek.\\n\\n\\n']\n",
      "['Sentinel-2']\n",
      "['\\nA Sentinel-2 műholdak úgyszintén az ESA által a Copernicus program részeként kifejlesztett és üzemeltetett műholdmisszió részét képezik, céljuk a Föld szárazföldi és part menti területeinek megismerése. A 2015-ben indított Sentinel-2 küldetés két iker műholdból, a Sentinel-2A és a Sentinel-2B műholdakból álló konstelláció, amelyek egymást kiegészítve globális  szintű lefedettséget és öt napos periodikusságot biztosítanak ']\n",
      "['.\\n\\nA műholdak napszinkron pályán keringenek a Föld körül a pólusok között, és ötnaponta globális lefedettséget biztosítanak. Ez a rendszeres visszatérési idő biztosítja az időszerű és pontos adatgyűjtést a földtakaró változásainak, a növényzet állapotának és a környezet változásainak a megfigyeléséhez. A műholdak push-broom képalkotási technikát alkalmaznak, amely során a műszer széles sávban pásztázza a Föld felszínét, miközben a pályája mentén halad. A felvett adatokat ezután a földi állomásokra továbbítják feldolgozásra és publikálásra. Az adattermékeket a Sentinel-1 műholdhoz hasonlóan az ESA készíti elő, majd publikálja. Az adatgyűjtés folyamatosan történik a műhold pályáját követve, egy adatfelvételből keletkező kép hossza akár 15 000 km is lehet.\\n\\nA műholdakat opto-elektronikus hiperspektrális érzékelővel (MSI) szerelték fel, amely a látható, a közeli infravörös (VNIR) és a rövidhullámú infravörös (SWIR) spektrumzónákban 10-60 m felbontású Sentinel-2 felvételeket készít ']\n",
      "['. Az érzékelő 13 spektrális csatornát tartalmaz, amelyek a ']\n",
      "[' ábrán látható módon fedik le a spektrumot. Ezek a csatornák biztosítják a növényzet állapotában mutatkozó különbségek rögzítését, valamint rögzítik különböző légköri gőzök és gázok hatást is, többek között különböző felhőzetek hatásait. Ezen csatornák közül négy sáv 10 méteres, hat sáv 20 méteres és három sáv 60 méteres térbeli felbontásban érhető el a földfelszínhez korrigált ortofotó termékekben. Ezeknek a csatornáknak az átméretezéséhez különböző interpolációs algoritmusokat lehet használni, a lineáris interpolációtól kezdve akár neurális hálót alkalmazó megoldásokig ']\n",
      "['. Az ESA által rendelkezésre bocsátott termékek a SAFE formátumban elérhetőek, ez a file formátum ezeket az adatokat nyers képként tárolja, metaadatokkal.\\n\\n']\n",
      "['\\nA Sentinel-2 termékeknek is több szintjét kínálja az ESA:\\n\\nA Level-1B termék radiometrikusan korrigált képeket szolgáltat a légkör tetején mért (Top-Of-Atmosphere, TOA) sugárzási értékek és az érzékelő geometria tekintetében. Ezenkívül ez a termék tartalmazza a finomított geometriai modellt, amelyet a Level-1C termék előállításához használnak. A Level-1B pixelkoordináták az egyes pixelek középpontjára vonatkoznak. Ennél alacsonyabb szintű nyers adatok nem éhetőek el nyilvánosan.\\n\\nA Level-1C termék egy digitális magassági modell (DEM) felhasználásával készül, amely a képet térképi geometriába vetíti. A pixelenkénti radiometriai méréseket a TOA visszaverődési értékek formájában adják meg, illetve a radiometriai átalakításhoz szükséges paramétereket is csatolják. A Level-1C termékek újramintavételezése a különböző spektrális sávok natív felbontásától függően 10, 20 és 60 m-es állandó talajmintavételi távolsággal (GSD) történik. A Level-1C termékekben a pixelkoordináták a pixel bal felső sarkára vonatkoznak. A Level-1C termékek emellett minőségi információkat, például felhőmaszkot, és kiegészítő adatokat, többek között ECMWF-adatokat (teljes ózonoszlop, teljes vízgőzoszlop és átlagos tengerszint feletti nyomás) és  CAMS (Copernicus Atmosphere Monitoring Service) aeroszoltartalomra vonatkozó információkat is tartalmaznak.\\n\\nA Level-2A termék a kapcsolódó Level-1C termékekből származó, légköri szempontból korrigált felszíni reflexiós képeket (SR) szolgáltat. A képek légköri korrekciója magában foglalja a levegőmolekulák szóró hatásának (Rayleigh-szórás), a légköri gázok, különösen az ózon, az oxigén és a vízgőz elnyelő és szóró hatásának, valamint az aeroszol részecskék okozta elnyelés és szórás korrekcióját. Ezek a korrigált termékek 2019 óta szisztematikusan minden Level-1C termékhez elérhetőek.\\n\\nAz elérhető műholdképek rögzített méretű elemi csempékként kerülnek publikálásra. A Level-1B termékek esetében a csempék a tizenhárom MSI detektor által érzékelt nyers adatokat tartalmaznak, 23x25 ']\n",
      "[' méretű, szenzorgeometriájú kép formájában, míg a Level-1C és a Level-2A szintek esetében a csempék 110x110 ']\n",
      "['-es ortoképek UTM/WGS84 vetületre leképezve.\\n\\nEzen felül on-demand elérhetőek a Landsat műholdakkal kombinált fúziós termékek, a Level-2H és a Level-2F. Ezek a termékek a Landsat 8 és 9 műholdak multispektrális képeinek eredményeivel egészítik ki a Sentinel-2 műhold méréseit.\\n\\n\\n']\n",
      "['Változásdetekciós módszerek']\n",
      "['\\nA változásdetekció alatt, földmegyfigyelési vonatkozásban, azt értjük, amikor kettő vagy több, azonos területet leképző, de különböző időpontban készült kép között szeretnénk megállapítani olyan különbségeket, amelyek a megfigyelt területen következtek be. Ennek számos motivációja lehet, többek között környezetvédelmi-, katasztrófaelhárítási célok vagy infrastrukturális fejlesztések monitorozása. Számos módszer található a szakirodalomban földmegyfigyelési változásdetekcióra, melyek két nagyobb csoportba sorolhatóak. \\n\\nAz egyik nagy csoport az objektum alapú változásdetekció, ahol objektumokat detektálnak a képeken, majd az így detektált objektumok közötti különbségeket vizsgálják ']\n",
      "['. Ezek az eljárások főleg a neurális hálók és mélytanulási módszerek elterjedésével lettek népszerűek, mivel ezek a módszerek lehetővé tették, hogy a rendelkezésre álló adatokat egyszerűen fel lehessen annotálni, és így mély neurális hálókat tanítani segítségükkel. Ez a módszer nem teszi közvetlenül lehetővé, hogy pixelenkénti változásokat detektáljunk, ugyanakkor nagy felbontású műholdképek esetén konkrét objektumok felismerésére jól alkalmazható, és a felismert objektumok utólagos pixelenkénti szegmentálással kiegészíthetőek, ezzel áthidalva a korábbi limitációt.\\n\\nA másik módszer a kép pixelenkénti vizsgálata, amely a hagyományosabb módszerek alapját képezi. Ezeknek a módszereknek a lényege, hogy pixelenként összehasonlításra kerülnek a képek. Hátrányuk, hogy a különböző pixelfelbontású képek esetén megfelelő arányosítási stratégia szükséges. A pixelösszehasonlításon alapuló módszerek a következő kategóriákba csoportosíthatóak ']\n",
      "[':\\n\\n']\n",
      "['\\nA dolgozatomban Markov Véletlen Mező (Markov Random Field, MRF) alapú szegmentációval ']\n",
      "[', és szegmentáció alapú változásdetekcióval ']\n",
      "[' foglalkozom. Az MRF modell alkalmazását változásdetekcióra a \\n']\n",
      "[' cikkben leírt fMRF módszerrel valósítottam meg. Az  MRF legnagyobb előnye a mélytanulási \\nmódszerekkel szemben, hogy mivel lokális tanításon alapszik, ezért tetszőleges számú multitemporális képre alkalmazható, nem feltétele, \\nhogy korábbi ismeretekkel rendelkezzünk a képekről, vagy átfogó ismeretekkel más hasonló helyszínekről. Továbbá az eredmények statisztikailag definiált értékek, így \\nmindegyikhez hozzárendelhető egy valószínűség, amely jól magyarázhatóan a statisztikai modellek alapján számítható, így a szegmentáció eredménye könnyebben magyarázható, mint a neurális hálókon alapuló módszereké. Az MRF modell matematikai \\nhátteréből az következik, hogy a szegmentálás globálisan optimális ']\n",
      "[', ugyanakkor a gyakorlatban ez nem \\nfeltétlen teljesül, de az optimalizáció egy globális optimum irányába történik.\\nA másik nagy előnye az MRF modelleknek, hogy a tanítása kis hardver igényű egy neurális hálóhoz képest, és lényegesen kisebb \\ntanítóhalmazt igényel. Ugyanakkor, mivel az MRF modellek alapjait jellemzően egyszerű statisztikai modellek képezik, ezek a modellek \\ncsak korlátozott mértékben tudják leírni az adatot, amit esetlegesen a neurális hálók lényegesen jobban, főleg nem lineáris \\nadatok esetén. A neurális hálók teljesítménye ráadásul a tanítás után sokkal nagyobb, míg az MRF modellek esetén jellemzően \\nminden alkalommal el kell végezni a statisztikai becslést, ami hosszabb időt vehet igénybe.\\n\\nA változásdetekciós módszerek kapcsán, és a földmegyfigyelési alkalmazás esetén még inkább, központi kérdés, hogy a modellt milyen adatok alapján tudjuk elkészíteni. Abban az esetben, ha automatikusan szeretnénk a változást detektálni, és semmilyen \\nelőzetes ismerettel nem rendelkezünk egy adott területről, a tanító halmazt automatikusan kell kijelölni. Az ilyen \\nmódszereket felügyelet nélküli tanulásnak nevezik. Ezeknek a módszereknek hátránya főleg szegmentációs algoritmusok esetén \\nszembetűnő, mivel ekkor nem tudjuk részletesen kontrollálni, hogy milyen szegmensek alakuljanak ki, így akár olyan szegmensek \\nis kialakulhatnak, amelyeknek nincsen fizikai megfeleltetése. Földmegfigyelési esetekben azonban jellemzően az egy \\nszegmensbe eső adatok egy fizikai kategóriába is tartoznak. Továbbá nehezíti a szegmentációs algoritmus tanítását, ha egyáltalán nem áll \\nrendelkezésre ellenőrző adat, mivel ebben az esetben a szegmensek általános tulajdonságai alapján kell a modellt \\nkiértékelni. ']\n",
      "[' és az \\nelmúlt években publikált adatszettek ']\n",
      "[' megjelenése csökkentett lényegesen. További módszer az annotáció kiterjesztésére, hogy a meglévő \\nannotációkból készítenek további annotációkat ']\n",
      "['.\\n']\n"
     ]
    }
   ],
   "source": [
    "for node in tqdm(soup.all):\n",
    "    handle_text(node)"
   ]
  },
  {
   "cell_type": "code",
   "execution_count": 10,
   "metadata": {},
   "outputs": [],
   "source": [
    "with open(Path('Diplomaterv/content/1_irodalom_eng.tex'),'w',encoding='utf-8') as f:\n",
    "    f.write(str(soup))"
   ]
  }
 ],
 "metadata": {
  "kernelspec": {
   "display_name": ".venv",
   "language": "python",
   "name": "python3"
  },
  "language_info": {
   "codemirror_mode": {
    "name": "ipython",
    "version": 3
   },
   "file_extension": ".py",
   "mimetype": "text/x-python",
   "name": "python",
   "nbconvert_exporter": "python",
   "pygments_lexer": "ipython3",
   "version": "3.10.5"
  }
 },
 "nbformat": 4,
 "nbformat_minor": 2
}
