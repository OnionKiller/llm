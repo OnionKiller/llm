{
 "cells": [
  {
   "cell_type": "code",
   "execution_count": 1,
   "metadata": {},
   "outputs": [
    {
     "ename": "RuntimeError",
     "evalue": "CUDA failed with error out of memory",
     "output_type": "error",
     "traceback": [
      "\u001b[1;31m---------------------------------------------------------------------------\u001b[0m",
      "\u001b[1;31mRuntimeError\u001b[0m                              Traceback (most recent call last)",
      "Cell \u001b[1;32mIn[1], line 4\u001b[0m\n\u001b[0;32m      1\u001b[0m \u001b[38;5;28;01mimport\u001b[39;00m \u001b[38;5;21;01mctranslate2\u001b[39;00m\n\u001b[0;32m      2\u001b[0m \u001b[38;5;28;01mimport\u001b[39;00m \u001b[38;5;21;01mtransformers\u001b[39;00m\n\u001b[1;32m----> 4\u001b[0m translator \u001b[38;5;241m=\u001b[39m \u001b[43mctranslate2\u001b[49m\u001b[38;5;241;43m.\u001b[39;49m\u001b[43mTranslator\u001b[49m\u001b[43m(\u001b[49m\u001b[38;5;124;43m\"\u001b[39;49m\u001b[38;5;124;43mmadlad400-7b-mt-bt-ct2-int8_float16\u001b[39;49m\u001b[38;5;124;43m\"\u001b[39;49m\u001b[43m,\u001b[49m\u001b[43mdevice\u001b[49m\u001b[38;5;241;43m=\u001b[39;49m\u001b[38;5;124;43m'\u001b[39;49m\u001b[38;5;124;43mcuda\u001b[39;49m\u001b[38;5;124;43m'\u001b[39;49m\u001b[43m,\u001b[49m\u001b[43m \u001b[49m\u001b[43mcompute_type\u001b[49m\u001b[38;5;241;43m=\u001b[39;49m\u001b[38;5;124;43m\"\u001b[39;49m\u001b[38;5;124;43mauto\u001b[39;49m\u001b[38;5;124;43m\"\u001b[39;49m\u001b[43m,\u001b[49m\u001b[43m  \u001b[49m\u001b[43mintra_threads\u001b[49m\u001b[38;5;241;43m=\u001b[39;49m\u001b[38;5;241;43m8\u001b[39;49m\u001b[43m)\u001b[49m\n\u001b[0;32m      5\u001b[0m tokenizer \u001b[38;5;241m=\u001b[39m transformers\u001b[38;5;241m.\u001b[39mAutoTokenizer\u001b[38;5;241m.\u001b[39mfrom_pretrained(\u001b[38;5;124m\"\u001b[39m\u001b[38;5;124mjbochi/madlad400-7b-mt-bt\u001b[39m\u001b[38;5;124m\"\u001b[39m)\n",
      "\u001b[1;31mRuntimeError\u001b[0m: CUDA failed with error out of memory"
     ]
    }
   ],
   "source": [
    "import ctranslate2\n",
    "import transformers\n",
    "\n",
    "translator = ctranslate2.Translator(\"madlad400-7b-mt-bt-ct2-int8_float16\",device='cpu', compute_type=\"auto\",  intra_threads=8)\n",
    "tokenizer = transformers.AutoTokenizer.from_pretrained(\"jbochi/madlad400-7b-mt-bt\")\n"
   ]
  },
  {
   "cell_type": "code",
   "execution_count": 2,
   "metadata": {},
   "outputs": [
    {
     "data": {
      "text/plain": [
       "{'float16', 'float32', 'int8', 'int8_float16', 'int8_float32'}"
      ]
     },
     "execution_count": 2,
     "metadata": {},
     "output_type": "execute_result"
    }
   ],
   "source": [
    "ctranslate2.get_supported_compute_types('cpu')\n",
    "ctranslate2.get_supported_compute_types('cuda')"
   ]
  },
  {
   "cell_type": "code",
   "execution_count": 3,
   "metadata": {},
   "outputs": [
    {
     "name": "stdout",
     "output_type": "stream",
     "text": [
      "246 301\n",
      "Abstract: The aim of the diploma thesis is to develop Earth observation segmentation and change detection algorithms. Segmentation and change detection are very important parts of Earth observation, because one of the most common questions about the Earth is how it changes. The European Space Agency (ESA) continuously produces satellite images of the Earth’s surface during its missions, repeated every few days, which are freely available. However, the processing of these images presents new challenges to current methods. The biggest challenge is the handling of multispectral images and the combination of different data sources. An excellent method for this task is the fusion Markov Random Field method, which not only allows the fusion of different image types, but also provides an effective framework for change detection.\n",
      "There are two very different forms of Earth observation; satellite and aerial imaging. The main difference between the two methods is the resolution.In satellite imaging, the image is recorded by a spacecraft orbiting outside the atmosphere. In this case, the image is recorded through the entire atmosphere, which to some extent limits the highest optical resolution that can be achieved. The advantage of satellite images is that, thanks to orbiting around the Earth, it is easy to take regular images of large areas, to periodically examine a given area. At the same time, this periodicity is also a disadvantage of the method, as it is not possible to record images in an interactive way or at any time to meet any need. The European Space Agency currently operates several satellites, whose recorded images are available free of charge. The most widely used of them are the Sentinel-1 and Sentinel-2 satellites.\n"
     ]
    }
   ],
   "source": [
    "prefix = \"<2en> \"\n",
    "input_text_1 = \"A diplomaterv célja földmegfigyelési szegmentációs és változásdetekciós algoritmusok fejlesztése. A szegmentáció és változásdetekció nagyon fontos részét képezik a földmegfigyelésnek, hiszen az egyik leggyakoribb kérdés a Földdel kapcsolatban, hogy hogyan változik. Az Európai Űrügynökség (ESA) missziói során folyamatosan, néhány naponta ismétlődve készít műholdképeket a Föld felszínéről, amelyek ingyenesen hozzáférhetőek. Ezeknek a képeknek a feldolgozása azonban új kihívásokat támaszt a jelenlegi módszerekkel szemben. A legnagyobb kihívás a mulitspektrális képek kezelése, illetve különböző adatforrások kombinálása. Erre a feladatra egy kiváló módszer a fúziós Markov Véletlen Mező módszer, amely nemcsak a különböző képtípusok fúzióját teszi lehetővé, de egy hatékony keretrendszert biztosít változásdetekcióra is.\"\n",
    "input_text_2 = 'A földmegfigyelésnek két egymástól nagymértékben különböző formája létezik.'\n",
    "input_tokens1  = tokenizer.convert_ids_to_tokens(tokenizer.encode(prefix + input_text_1))\n",
    "input_tokens2  = tokenizer.convert_ids_to_tokens(tokenizer.encode(prefix + input_text_2))\n",
    "print(len(input_tokens1),len(input_tokens2))\n",
    "\n",
    "results = translator.translate_batch([input_tokens1,input_tokens2])\n",
    "\n",
    "output_tokens = results[0].hypotheses[0]\n",
    "output_text = tokenizer.decode(tokenizer.convert_tokens_to_ids(output_tokens))\n",
    "print(output_text)\n",
    "\n",
    "output_tokens = results[1].hypotheses[0]\n",
    "output_text = tokenizer.decode(tokenizer.convert_tokens_to_ids(output_tokens))\n",
    "print(output_text)"
   ]
  }
 ],
 "metadata": {
  "kernelspec": {
   "display_name": ".venv",
   "language": "python",
   "name": "python3"
  },
  "language_info": {
   "codemirror_mode": {
    "name": "ipython",
    "version": 3
   },
   "file_extension": ".py",
   "mimetype": "text/x-python",
   "name": "python",
   "nbconvert_exporter": "python",
   "pygments_lexer": "ipython3",
   "version": "3.10.5"
  }
 },
 "nbformat": 4,
 "nbformat_minor": 2
}
