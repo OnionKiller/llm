{
 "cells": [
  {
   "cell_type": "code",
   "execution_count": 1,
   "metadata": {},
   "outputs": [],
   "source": [
    "from pathlib import Path"
   ]
  },
  {
   "cell_type": "code",
   "execution_count": 2,
   "metadata": {},
   "outputs": [],
   "source": [
    "with open(Path('Diplomaterv/content/1_irodalom.tex'),'r',encoding='utf-8') as f:\n",
    "    text = f.read()"
   ]
  },
  {
   "cell_type": "code",
   "execution_count": 49,
   "metadata": {},
   "outputs": [],
   "source": [
    "from TexSoup import TexSoup\n",
    "soup = TexSoup(text, tolerance=1)"
   ]
  },
  {
   "cell_type": "code",
   "execution_count": 4,
   "metadata": {},
   "outputs": [],
   "source": [
    "alls = soup.all\n",
    "alls[2].string = \"Hello there\""
   ]
  },
  {
   "cell_type": "code",
   "execution_count": 42,
   "metadata": {},
   "outputs": [
    {
     "data": {
      "text/plain": [
       "['%----------------------------------------------------------------------------',\n",
       " \\chapter{Hello there},\n",
       " '%----------------------------------------------------------------------------',\n",
       " \\section{Földmegfigyelés},\n",
       " '%----------------------------------------------------------------------------']"
      ]
     },
     "execution_count": 42,
     "metadata": {},
     "output_type": "execute_result"
    }
   ],
   "source": [
    "soup[0:5]"
   ]
  },
  {
   "cell_type": "code",
   "execution_count": 43,
   "metadata": {},
   "outputs": [
    {
     "data": {
      "text/plain": [
       "\\\\Amennyiben rendelkezünk tanító adatokkal, abban az esetben felügyelt tanítást tudunk végezni, ahol az adatokat tanító és \n",
       "ellenőrző csoportokba osztjuk. Ezen csoportok alapján megvizsgálható a szegmentációs algoritmus hatékonysága, és esetleges \n",
       "hátrányai, objektív metrikák szerint. A felügyelt tanítás nehézsége, hogy a képekhez annotációt kell készíteni, ami komoly \n",
       "erőforrásokat és időbefektetést igényel. Korábban ez volt a neurális hálós földmegfigyelés egyik legnagyobb korlátja, mivel \n",
       "jellemzően kevés nyilvános annotáció érhető el műholdképekhez, amit a transzfer tanulás"
      ]
     },
     "execution_count": 43,
     "metadata": {},
     "output_type": "execute_result"
    }
   ],
   "source": [
    "alls[88].name = \"\\\\\"+alls[88].name\n",
    "alls[88]"
   ]
  },
  {
   "cell_type": "code",
   "execution_count": 25,
   "metadata": {},
   "outputs": [
    {
     "data": {
      "text/plain": [
       "$km^2$"
      ]
     },
     "execution_count": 25,
     "metadata": {},
     "output_type": "execute_result"
    }
   ],
   "source": [
    "alls[62]"
   ]
  },
  {
   "cell_type": "code",
   "execution_count": 89,
   "metadata": {},
   "outputs": [
    {
     "data": {
      "text/plain": [
       "'Hello there'"
      ]
     },
     "execution_count": 89,
     "metadata": {},
     "output_type": "execute_result"
    }
   ],
   "source": [
    "alls[2].string"
   ]
  },
  {
   "cell_type": "code",
   "execution_count": null,
   "metadata": {},
   "outputs": [],
   "source": [
    "for i,a in enumerate(alls):\n",
    "    print(i,a.name)"
   ]
  },
  {
   "cell_type": "code",
   "execution_count": 101,
   "metadata": {},
   "outputs": [
    {
     "name": "stdout",
     "output_type": "stream",
     "text": [
      "[' Algebrai alapú változásdetekció', '\\\\\\\\', '\\n    Ilyen módszerek során a képek közötti algebrai kapcsolatot vizsgáljuk. Ez történhet a pixelek közvetlen\\n    összehasonlításával, ugyanakkor a legtöbb esetben a különböző időpontokban készült képek más spektrális tulajdonságokkal \\n    rendelkeznek, így ez nem megbízható. A pixelek közötti különbséget leírhatjuk regressziós modellekkel, vagy ennél is \\n    magasabb szintű matematikai modellekkel ', 'karthik_change_2017', ', amelyek a nem lineáris kapcsolatot a pixelek között \\n    a lehető legjobban le tudják írni. Az így kapott pixel távolságokat elemezve megkapjuk a változást a képek között.\\n    ']\n",
      "[' Transzformáció alapú változásdetekció', '\\\\\\\\', '\\n    Annak érdekében, hogy különböző modalitású képeket össze lehessen hasonlítani, a pixelek közötti különbség vizsgálata \\n    helyett egy transzformációs műveletet definiálunk a két kép között, majd a változásokat a transzformáció hibájának \\n    mértéke alapján határozzuk meg. Ez a transzformáció lehet KMEANS ', 'celik_unsupervised_2009', ', PCA \\n    ', 'celik_unsupervised_2009', ' vagy Gramm-Schmidt ', 'sharma_change_2022', ' transzformáció, vagy különböző Markov \\n    Random Tereken értelmezett módszerek ', 'benedek_multilayer_2015,bruzzone_automatic_2000', '. Ezeknek a módszereknek \\n    előnye, hogy mutlimodális esetekben is tudnak működni. Hátrányuk, hogy érzékenyek a zajos képekre, amely bizonyos \\n    műholdképek esetén elkerülhetetlen.\\n    ']\n",
      "[' Szegmentáció alapú változásdetekció', '\\\\\\\\', '\\n    A képeket terhelő zaj kiküszöbölésére egy nagyon jó módszer, hogy előbb szegmentáljuk a képeket, majd az így kapott \\n    szegmentációk között realizált változásokat vizsgáljuk. Ez a módszer igen elterjedt, mivel multitemporális képeken is \\n    jól alkalmazható, a meglévő szegmentációs modelleket fel lehet hozzá használni. Ez utóbbi tulajdonsága miatt számos \\n    neurális hálós megoldás is ezt a módszert használja változásdetekcióra ', 'shafique_deep_2022', '. A szegmentációk összehasonlítására számos módszert dolgoztak ki   ', 'shafique_deep_2022,dimitrovski_current_2023,sziranyi_segmentation_2014,wang_how_2023', ', mély neurális \\n    hálókhoz, és Markov Random Terekhez egyaránt. \\n    Ugyankkor a módszernek nagyon fontos része, hogy a szegmentáció jól működjön, és az összehasonlítandó képeken az osztályozás egyértelmű és koherens legyen. Amennyiben ez nem teljesül, a változásdetekció nem fog megfelelően működni.\\n']\n"
     ]
    }
   ],
   "source": [
    "for b in alls[77]:\n",
    "    print(b.text)"
   ]
  },
  {
   "cell_type": "code",
   "execution_count": 134,
   "metadata": {},
   "outputs": [
    {
     "name": "stdout",
     "output_type": "stream",
     "text": [
      "<class 'TexSoup.utils.Token'> Sentinel-2 színcsaronák, és a hozzájuk tartozó átviteli függvények \n",
      "<class 'TexSoup.data.TexNode'> \\cite{noauthor_sentinel-2_nodate}\n"
     ]
    },
    {
     "data": {
      "text/plain": [
       "'Sentinel-2 színcsaronák, és a hozzájuk tartozó átviteli függvények '"
      ]
     },
     "execution_count": 134,
     "metadata": {},
     "output_type": "execute_result"
    }
   ],
   "source": [
    "for a in alls[59].caption:\n",
    "    print(type(a),a)\n",
    "alls[59].caption[0].text"
   ]
  },
  {
   "cell_type": "code",
   "execution_count": 47,
   "metadata": {},
   "outputs": [
    {
     "name": "stdout",
     "output_type": "stream",
     "text": [
      "{'itemize', 'figure', 'section', 'ref', '$', 'text', 'chapter', 'cite'}\n"
     ]
    }
   ],
   "source": [
    "node_t = set()\n",
    "for a in alls:\n",
    "    if len(a.name) < 300:\n",
    "        node_t.add(a.name)\n",
    "print(node_t)"
   ]
  },
  {
   "cell_type": "code",
   "execution_count": 5,
   "metadata": {},
   "outputs": [],
   "source": [
    "def translate(intext):\n",
    "    text = str(intext).replace('\\n','')\n",
    "    return f'TSTART{text}TEND'"
   ]
  },
  {
   "cell_type": "code",
   "execution_count": 60,
   "metadata": {},
   "outputs": [],
   "source": [
    "def handle_text(node):\n",
    "    name = node.name\n",
    "    if name in ['chapter','section','text']:\n",
    "        if len(node.text) == 0:\n",
    "            return\n",
    "        if node.text[0][0] == '%':\n",
    "            return\n",
    "        print(node.text)\n",
    "        node[0].text = '\\n'+translate(node[0].text)\n",
    "    if name == 'figure':\n",
    "        if len(node.caption.text) == 1:\n",
    "            node.caption.string = translate(node.caption.string)\n",
    "        else:\n",
    "            node.caption[0].text = translate(node.caption[0].text)\n",
    "\n",
    "    if name == \"itemize\":\n",
    "        handle_items(node)\n",
    "\n",
    "    if len(name) > 300:\n",
    "        node.name = translate(node.name)\n",
    "    "
   ]
  },
  {
   "cell_type": "code",
   "execution_count": 72,
   "metadata": {},
   "outputs": [],
   "source": [
    "def handle_items(items):\n",
    "    if len(items.children) != 0:\n",
    "        for i in items.children:\n",
    "            handle_items(i)\n",
    "    if items.name == 'item':\n",
    "        for i in range(len(items.text)):\n",
    "            try:\n",
    "                if items[i].text == '\\\\\\\\':\n",
    "                    continue\n",
    "            except IndexError:\n",
    "                continue\n",
    "            if hasattr(items[i], 'name'):\n",
    "                continue\n",
    "            items[i].text = translate(items[i].text)\n",
    "    "
   ]
  },
  {
   "cell_type": "code",
   "execution_count": 77,
   "metadata": {},
   "outputs": [
    {
     "name": "stdout",
     "output_type": "stream",
     "text": [
      "['\\nTSTARTTSTARTTSTARTTSTARTTSTARTTSTARTTSTARTTSTARTTSTARTTSTARTTSTARTTSTARTTSTARTTSTARTTSTARTElőzményekTENDTENDTENDTENDTENDTENDTENDTENDTENDTENDTENDTENDTENDTENDTEND']\n",
      "['\\nTSTARTTSTARTTSTARTTSTARTTSTARTTSTARTTSTARTTSTARTTSTARTTSTARTTSTARTTSTARTTSTARTTSTARTTSTARTFöldmegfigyelésTENDTENDTENDTENDTENDTENDTENDTENDTENDTENDTENDTENDTENDTENDTEND']\n",
      "['\\nTSTARTTSTARTTSTARTTSTARTTSTARTTSTARTTSTARTTSTARTTSTARTTSTARTTSTARTTSTARTTSTARTTSTARTTSTARTA földmegfigyelés feladata, hogy bolygónk felületéről minél pontosabb képet alkosson különböző technológiák segítségével. A legelterjedtebb módszer földmegfigyelésre különböző távérzékelési technológiák alkalmazása, a dolgozatomban kizárólag ilyen technológiákkal fogok foglalkozni. A telekommunikációs- és űrtechnológiák fejlődésével párhuzamosan egyre több műhold pásztázza a Földet, ami növeli a rendelkezésre álló adatok mennyiségét. Ezt az adatmennyiséget tovább növeli a drónok és egyéb olcsón elérhető repülő eszközök elterjedése, ami a földmegfigyeléshez használható nagy felbontású képek olcsó és gyors előállítását teszi lehetővé.Ezeknek az adatforrásoknak a rohamos növekedése számos informatikai és adatkezelési kihívás elé állította a földmegfigyeléssel foglalkozó kutatókat és szakembereket, emiatt számos technológiai újítás korai felhasználója a szakterület. Az így keletkező adattömegek segítségével különböző applikációk készíthetőek, melyek segítségével részletgazdag és precíz képet alkothatunk környezetünkről. Ezeknek az applikációknak a felhasználási területe nagyon széles, alkalmazzák többek között erdészeti és mezőgazdasági folyamatok támogatására, biodiverzitás és vegetáció vizsgálatára, időjárás és klíma vizsgálati módszereknél és előrejelzési, valamint katasztrófaelhárítási műveletek támogatására, továbbá harcászati alkalmazásokra.A földmegfigyelési módszerek által nyújtott lehetőségek segítenek a globális változások megfigyelésében és a gyorsan változó környezetünkhöz történő alkalmazkodásban.Az idősorok vizsgálatára alkalmas algoritmusok fejlődése segíthet többek között a klímaváltozáshoz kapcsolódó kérdések megválaszolásában is. Az így készült elemzések eredményei alapján megérthetik a szakemberek, hogy hogyan változik a Föld felszíne, és mi okozza ezeket a változásokat, valamint ennek segítségével megtervezhetik, hogyan gazdálkodhatunk jobban az erőforrásainkkal, vagy hogyan reagálhatunk eredményesen egy esetleges természeti katasztrófára.A nagyszámú adatforrás többek között új, fúziós technológiák kialakítását igényli, amelyek segítségével akár különböző modalitású képek információit is ki lehet nyerni, ezzel még jobban kihasználva a modern képalkotási technológiák széles tárházát.TENDTENDTENDTENDTENDTENDTENDTENDTENDTENDTENDTENDTENDTENDTEND']\n",
      "['\\nTSTARTTSTARTTSTARTTSTARTTSTARTTSTARTTSTARTTSTARTTSTARTTSTARTTSTARTTSTARTTSTARTTSTARTTSTARTFöldmegfigyelési módszerekTENDTENDTENDTENDTENDTENDTENDTENDTENDTENDTENDTENDTENDTENDTEND']\n",
      "['\\nTSTARTTSTARTTSTARTTSTARTTSTARTTSTARTTSTARTTSTARTTSTARTTSTARTTSTARTTSTARTTSTARTTSTARTTSTARTA földmegfigyelésnek két egymástól nagymértékben különböző formája létezik; a műholdas és a repülőgépek segítségével történő képalkotás. A két módszer közötti legnagyobb különbség a felbontásban található.Műholdas képalkotás esetén a képet az atmoszférán kívül keringő űrberendezés segítségével rögzítjük. Ebben az esetben az atmoszféra egészén keresztül történik a képalkotás, ami bizonyos mértékig limitálja az elérhetőlegnagyobb optikai felbontást. A műholdról készült képek előnye, hogy Föld körüli keringésnek köszönhetően nagy területekről könnyen lehet rendszeresen képeket készíteni, egy adott területet periodikusan vizsgálni. Ugyanakkor ez a periodikusság hátránya is a módszernek, mivel nincsen lehetőség interaktív módon vagy bármilyen igénynek megfelelve tetszőleges időpontban képek rögzítésére. Az Európai Űrügynökség jelenleg több műholdat is üzemeltet, amelyeknek a rögzített képei ingyenesen elérhetőek. Ezek közül a legelterjedtebben használt a Sentinel-1 és Sentinel-2 műholdak (TENDTENDTENDTENDTENDTENDTENDTENDTENDTENDTENDTENDTENDTENDTEND']\n",
      "['\\nTSTARTTSTARTTSTARTTSTARTTSTARTTSTARTTSTARTTSTARTTSTARTTSTARTTSTARTTSTARTTSTARTTSTARTTSTART ábra).Jelenleg a legelterjedtebb módszer az atmoszférán felül történő képalkotásra az UAV (Unmanned Aerial Veichle) módszerrel történő képalkotás. Az elmúlt években az UAV techonlógiák rohamos fejlődésével egyre fejlettebb szenzorok lettek elérhetőek egyre nagyobb tömegek számára, így az UAV segítségével készített képek minősége is nagy mértékű javuláson ment keresztül. A legjelentősebb javulást a felbontásban és a geolokáció regisztrációjában érték el, ezzel egészen milliméter pontosságú pontfelhők kialakítását lehetővé téve. Az UAV képalkotás esetén szükség van a képek összeregisztrálására, az artifactok korrigálására és a georeferálás elkészítésére, emiatt egy kép elkészítése a műholdképekkel összevetve több munkát igényel. Ugyanakkor az UAV sokkal nagyobb precizitást nyújt, és kisebb pénzügyi befektetést igényel.Változásdetekciós feladatok esetén egy területről több különböző időpontban kell felvételt készíteni, amely felvételek között a különbség megállapítható. Az ilyen több időpontot tartalmazó adatokat multitemporális adatnak hívják.TENDTENDTENDTENDTENDTENDTENDTENDTENDTENDTENDTENDTENDTENDTEND']\n",
      "['\\nTSTARTTSTARTTSTARTTSTARTTSTARTTSTARTTSTARTTSTARTTSTARTTSTARTTSTARTTSTARTTSTARTTSTARTTSTARTAdatforrásokTENDTENDTENDTENDTENDTENDTENDTENDTENDTENDTENDTENDTENDTENDTEND']\n",
      "['\\nTSTARTTSTARTTSTARTTSTARTTSTARTTSTARTTSTARTTSTARTTSTARTTSTARTTSTARTTSTARTTSTARTTSTARTTSTARTA műholdakon történő képalkotáshoz két nagyobb képtípus köthető:TENDTENDTENDTENDTENDTENDTENDTENDTENDTENDTENDTENDTENDTENDTEND']\n",
      "['\\nTSTARTTSTARTTSTARTTSTARTTSTARTTSTARTSentinel-1TENDTENDTENDTENDTENDTEND']\n",
      "['\\nTSTARTTSTARTTSTARTTSTARTTSTARTTSTARTA Sentinel-1 műholdsorozatot az Európai Űrügynökség (ESA) a Copernicus program részeként bocsátotta fel TENDTENDTENDTENDTENDTEND']\n",
      "['\\nTSTARTTSTARTTSTARTTSTARTTSTARTTSTART.  A  Sentinel-1 műholdak nélkülözhetetlen eszközként szolgálnak a különböző földmegfigyelési alkalmazások számára létfontosságú adatok szolgáltatásában. A műholdak a képalkotáshoz szintetikus apertúrájú radartechnológiát (SAR) használnak, ezzel lehetővé téve a Föld felszínének folyamatos, időjárási viszonyoktól független megfigyelését. Ezzel az egyik leghasznosabb földmegfigyelési forrásnak számítanak, mivel az optikai módszereket gyakran korlátozza a felhőtakaró.Ezek a képek létfontosságúak az olyan természeti katasztrófák, mint az árvizek, földrengések és vulkánkitörések megfigyeléséhez, valamint a növénytermesztés felméréséhez és az illegális tevékenységek felderítéséhez. A műholdak interferometrikus termékeket is készítenek, amelyek lehetővé teszik a felszín deformációinak milliméteres pontosságú mérését.A Sentinel-1 különböző üzemmódokban működik, amelyekkel különböző felhasználási eseteknek tud megfelelni TENDTENDTENDTENDTENDTEND']\n",
      "['\\nTSTARTTSTARTTSTARTTSTARTTSTARTTSTART. Az első üzemmód, az Interferometric Wide Swath (IW), széles lefedettséget biztosít, átlagosan 250 kilométeres lefedettségi szélességgel. Ez az üzemmód ideális a nagyméretű változások, például az erdőirtás vagy jégtakaró dinamikájának megfigyelésére. A második üzemmód, az Extra Wide Swath (EW), 400 kilométeres szélességben mintavételez, így alkalmas hatalmas óceáni területek megfigyelésére, olajszennyeződések észlelésére és tengeri tevékenységek nyomon követésére. Hasonló funkcióra alkalmazhatóak a Wave (WV) nevű üzemmódban készített felvételek, amelyben a beeső sugarak polarizációját vizsgálja, így az óceán felszíni hullámainak és szélmintáinak rögzítésére alkalmazható, ami a tengeri előrejelzések és a tengeri műveletek szempontjából kulcsfontosságú.A Sentinel-1 emellett Stripmap (SM) üzemmódot is kínál, amely szűkebb, 80 kilométer széles sávokat figyel meg, cserébe nagy felbontású képeket készít. Ez az üzemmód különösen hasznos a részletes földtakaró-osztályozáshoz, a várostervezéshez és az infrastruktúra megfigyeléséhez. A dolgozatban használt adatok is ebben az üzemmódban készített felvételekből származnak. A Sentinel-1 nyers felvételeinek feldolgozását és ebből a termékek előállítását az ESA és partnerszervezetei végzik, biztosítva ezzel az adatok magas minőségét, szabványosítását és megfelelő kalibrálását.Az ESA a Sentinel-1 termékeknek három szintjét kínálja, amelyek mindegyike különböző szintű feldolgozást jelent. Ezek a termékszintek különböző felhasználói igényeknek felelnek meg, és egyre finomabb és speciálisabb adatokat szolgáltatnak TENDTENDTENDTENDTENDTEND']\n",
      "['\\nTSTARTTSTARTTSTARTTSTARTTSTARTTSTART.0. szintű termékek: Ezek a Sentinel-1 műholdakból közvetlenül nyert nyers SAR-adattermékek. 1. szintű termékek:Ezek a termékek 0. szintű adatokból származnak, miután alapvető feldolgozási lépéseken mennek keresztül, beleértve a kalibrálást, a radiometriai korrekciót és a geometriai igazítást.  Ezek a termékek magasabb szintű használhatóságot biztosítanak, és alkalmasak vizuális értelmezésre, változásérzékelésre és alapvető térképészeti alkalmazásokra. Az 1. szintű termékek közé tartoznak a Single Look Complex (SLC), Ground Range Detected (GRD) és Detected (DET) termékek. A GRD termékek fókuszáltak, kalibráltak és egy földtávolsági koordinátarendszerbe vetítettek, míg a DET termékek detektáltak és kalibráltak, és intenzitásinformációt szolgáltatnak. Ezek a termékek az SM, IW és EW módban készült adatokhoz érhetőek el.2. szintű termékek: A 2. szintű termékek az 1. szintű adatokból származnak, és speciális alkalmazási területekhez lettek létrehozva. Ezek a termékek kifejezetten tematikus alkalmazásokra vannak szabva, és gyakran tudományos kutatásra, környezeti megfigyelésre és döntéshozatali célokra használják őket. A 2. szintű termékek közé tartoznak a különböző származtatott termékek, például az interferometrikus koherencia, a terepkorrigált képek, a felszíni deformációs térképek, valamint az óceáni szél- és hullámparaméterek. Ezek magyarországi viszonylatban, főleg változásdetekciós szempontból, kevésbé érdekesek.TENDTENDTENDTENDTENDTEND']\n",
      "['\\nTSTARTTSTARTTSTARTTSTARTTSTARTTSTARTSentinel-2TENDTENDTENDTENDTENDTEND']\n",
      "['\\nTSTARTTSTARTTSTARTTSTARTTSTARTTSTARTA Sentinel-2 műholdak úgyszintén az ESA által a Copernicus program részeként kifejlesztett és üzemeltetett műholdmisszió részét képezik, céljuk a Föld szárazföldi és part menti területeinek megismerése. A 2015-ben indított Sentinel-2 küldetés két iker műholdból, a Sentinel-2A és a Sentinel-2B műholdakból álló konstelláció, amelyek egymást kiegészítve globális  szintű lefedettséget és öt napos periodikusságot biztosítanak TENDTENDTENDTENDTENDTEND']\n",
      "['\\nTSTARTTSTARTTSTARTTSTARTTSTARTTSTART.A műholdak napszinkron pályán keringenek a Föld körül a pólusok között, és ötnaponta globális lefedettséget biztosítanak. Ez a rendszeres visszatérési idő biztosítja az időszerű és pontos adatgyűjtést a földtakaró változásainak, a növényzet állapotának és a környezet változásainak a megfigyeléséhez. A műholdak push-broom képalkotási technikát alkalmaznak, amely során a műszer széles sávban pásztázza a Föld felszínét, miközben a pályája mentén halad. A felvett adatokat ezután a földi állomásokra továbbítják feldolgozásra és publikálásra. Az adattermékeket a Sentinel-1 műholdhoz hasonlóan az ESA készíti elő, majd publikálja. Az adatgyűjtés folyamatosan történik a műhold pályáját követve, egy adatfelvételből keletkező kép hossza akár 15 000 km is lehet.A műholdakat opto-elektronikus hiperspektrális érzékelővel (MSI) szerelték fel, amely a látható, a közeli infravörös (VNIR) és a rövidhullámú infravörös (SWIR) spektrumzónákban 10-60 m felbontású Sentinel-2 felvételeket készít TENDTENDTENDTENDTENDTEND']\n",
      "['\\nTSTARTTSTARTTSTARTTSTARTTSTARTTSTART. Az érzékelő 13 spektrális csatornát tartalmaz, amelyek a TENDTENDTENDTENDTENDTEND']\n",
      "['\\nTSTARTTSTARTTSTARTTSTARTTSTARTTSTART ábrán látható módon fedik le a spektrumot. Ezek a csatornák biztosítják a növényzet állapotában mutatkozó különbségek rögzítését, valamint rögzítik különböző légköri gőzök és gázok hatást is, többek között különböző felhőzetek hatásait. Ezen csatornák közül négy sáv 10 méteres, hat sáv 20 méteres és három sáv 60 méteres térbeli felbontásban érhető el a földfelszínhez korrigált ortofotó termékekben. Ezeknek a csatornáknak az átméretezéséhez különböző interpolációs algoritmusokat lehet használni, a lineáris interpolációtól kezdve akár neurális hálót alkalmazó megoldásokig TENDTENDTENDTENDTENDTEND']\n",
      "['\\nTSTARTTSTARTTSTARTTSTARTTSTARTTSTART. Az ESA által rendelkezésre bocsátott termékek a SAFE formátumban elérhetőek, ez a file formátum ezeket az adatokat nyers képként tárolja, metaadatokkal.TENDTENDTENDTENDTENDTEND']\n",
      "['\\nTSTARTTSTARTTSTARTTSTARTTSTARTTSTARTA Sentinel-2 termékeknek is több szintjét kínálja az ESA:A Level-1B termék radiometrikusan korrigált képeket szolgáltat a légkör tetején mért (Top-Of-Atmosphere, TOA) sugárzási értékek és az érzékelő geometria tekintetében. Ezenkívül ez a termék tartalmazza a finomított geometriai modellt, amelyet a Level-1C termék előállításához használnak. A Level-1B pixelkoordináták az egyes pixelek középpontjára vonatkoznak. Ennél alacsonyabb szintű nyers adatok nem éhetőek el nyilvánosan.A Level-1C termék egy digitális magassági modell (DEM) felhasználásával készül, amely a képet térképi geometriába vetíti. A pixelenkénti radiometriai méréseket a TOA visszaverődési értékek formájában adják meg, illetve a radiometriai átalakításhoz szükséges paramétereket is csatolják. A Level-1C termékek újramintavételezése a különböző spektrális sávok natív felbontásától függően 10, 20 és 60 m-es állandó talajmintavételi távolsággal (GSD) történik. A Level-1C termékekben a pixelkoordináták a pixel bal felső sarkára vonatkoznak. A Level-1C termékek emellett minőségi információkat, például felhőmaszkot, és kiegészítő adatokat, többek között ECMWF-adatokat (teljes ózonoszlop, teljes vízgőzoszlop és átlagos tengerszint feletti nyomás) és  CAMS (Copernicus Atmosphere Monitoring Service) aeroszoltartalomra vonatkozó információkat is tartalmaznak.A Level-2A termék a kapcsolódó Level-1C termékekből származó, légköri szempontból korrigált felszíni reflexiós képeket (SR) szolgáltat. A képek légköri korrekciója magában foglalja a levegőmolekulák szóró hatásának (Rayleigh-szórás), a légköri gázok, különösen az ózon, az oxigén és a vízgőz elnyelő és szóró hatásának, valamint az aeroszol részecskék okozta elnyelés és szórás korrekcióját. Ezek a korrigált termékek 2019 óta szisztematikusan minden Level-1C termékhez elérhetőek.Az elérhető műholdképek rögzített méretű elemi csempékként kerülnek publikálásra. A Level-1B termékek esetében a csempék a tizenhárom MSI detektor által érzékelt nyers adatokat tartalmaznak, 23x25 TENDTENDTENDTENDTENDTEND']\n",
      "['\\nTSTARTTSTARTTSTARTTSTARTTSTARTTSTART méretű, szenzorgeometriájú kép formájában, míg a Level-1C és a Level-2A szintek esetében a csempék 110x110 TENDTENDTENDTENDTENDTEND']\n",
      "['\\nTSTARTTSTARTTSTARTTSTARTTSTARTTSTART-es ortoképek UTM/WGS84 vetületre leképezve.Ezen felül on-demand elérhetőek a Landsat műholdakkal kombinált fúziós termékek, a Level-2H és a Level-2F. Ezek a termékek a Landsat 8 és 9 műholdak multispektrális képeinek eredményeivel egészítik ki a Sentinel-2 műhold méréseit.TENDTENDTENDTENDTENDTEND']\n",
      "['\\nTSTARTTSTARTTSTARTTSTARTTSTARTTSTARTVáltozásdetekciós módszerekTENDTENDTENDTENDTENDTEND']\n",
      "['\\nTSTARTTSTARTTSTARTTSTARTTSTARTTSTARTA változásdetekció alatt, földmegyfigyelési vonatkozásban, azt értjük, amikor kettő vagy több, azonos területet leképző, de különböző időpontban készült kép között szeretnénk megállapítani olyan különbségeket, amelyek a megfigyelt területen következtek be. Ennek számos motivációja lehet, többek között környezetvédelmi-, katasztrófaelhárítási célok vagy infrastrukturális fejlesztések monitorozása. Számos módszer található a szakirodalomban földmegyfigyelési változásdetekcióra, melyek két nagyobb csoportba sorolhatóak. Az egyik nagy csoport az objektum alapú változásdetekció, ahol objektumokat detektálnak a képeken, majd az így detektált objektumok közötti különbségeket vizsgálják TENDTENDTENDTENDTENDTEND']\n",
      "['\\nTSTARTTSTARTTSTARTTSTARTTSTARTTSTART. Ezek az eljárások főleg a neurális hálók és mélytanulási módszerek elterjedésével lettek népszerűek, mivel ezek a módszerek lehetővé tették, hogy a rendelkezésre álló adatokat egyszerűen fel lehessen annotálni, és így mély neurális hálókat tanítani segítségükkel. Ez a módszer nem teszi közvetlenül lehetővé, hogy pixelenkénti változásokat detektáljunk, ugyanakkor nagy felbontású műholdképek esetén konkrét objektumok felismerésére jól alkalmazható, és a felismert objektumok utólagos pixelenkénti szegmentálással kiegészíthetőek, ezzel áthidalva a korábbi limitációt.A másik módszer a kép pixelenkénti vizsgálata, amely a hagyományosabb módszerek alapját képezi. Ezeknek a módszereknek a lényege, hogy pixelenként összehasonlításra kerülnek a képek. Hátrányuk, hogy a különböző pixelfelbontású képek esetén megfelelő arányosítási stratégia szükséges. A pixelösszehasonlításon alapuló módszerek a következő kategóriákba csoportosíthatóak TENDTENDTENDTENDTENDTEND']\n",
      "['\\nTSTARTTSTARTTSTARTTSTARTTSTARTTSTART:TENDTENDTENDTENDTENDTEND']\n",
      "['\\nTSTARTTSTARTTSTARTTSTARTTSTARTTSTARTA dolgozatomban Markov Véletlen Mező (Markov Random Field, MRF) alapú szegmentációval TENDTENDTENDTENDTENDTEND']\n",
      "['\\nTSTARTTSTARTTSTARTTSTARTTSTARTTSTART, és szegmentáció alapú változásdetekcióval TENDTENDTENDTENDTENDTEND']\n",
      "['\\nTSTARTTSTARTTSTARTTSTARTTSTARTTSTART foglalkozom. Az MRF modell alkalmazását változásdetekcióra a TENDTENDTENDTENDTENDTEND']\n",
      "['\\nTSTARTTSTARTTSTARTTSTARTTSTARTTSTART cikkben leírt fMRF módszerrel valósítottam meg. Az  MRF legnagyobb előnye a mélytanulási módszerekkel szemben, hogy mivel lokális tanításon alapszik, ezért tetszőleges számú multitemporális képre alkalmazható, nem feltétele, hogy korábbi ismeretekkel rendelkezzünk a képekről, vagy átfogó ismeretekkel más hasonló helyszínekről. Továbbá az eredmények statisztikailag definiált értékek, így mindegyikhez hozzárendelhető egy valószínűség, amely jól magyarázhatóan a statisztikai modellek alapján számítható, így a szegmentáció eredménye könnyebben magyarázható, mint a neurális hálókon alapuló módszereké. Az MRF modell matematikai hátteréből az következik, hogy a szegmentálás globálisan optimális TENDTENDTENDTENDTENDTEND']\n",
      "['\\nTSTARTTSTARTTSTARTTSTARTTSTARTTSTART, ugyanakkor a gyakorlatban ez nem feltétlen teljesül, de az optimalizáció egy globális optimum irányába történik.A másik nagy előnye az MRF modelleknek, hogy a tanítása kis hardver igényű egy neurális hálóhoz képest, és lényegesen kisebb tanítóhalmazt igényel. Ugyanakkor, mivel az MRF modellek alapjait jellemzően egyszerű statisztikai modellek képezik, ezek a modellek csak korlátozott mértékben tudják leírni az adatot, amit esetlegesen a neurális hálók lényegesen jobban, főleg nem lineáris adatok esetén. A neurális hálók teljesítménye ráadásul a tanítás után sokkal nagyobb, míg az MRF modellek esetén jellemzően minden alkalommal el kell végezni a statisztikai becslést, ami hosszabb időt vehet igénybe.A változásdetekciós módszerek kapcsán, és a földmegyfigyelési alkalmazás esetén még inkább, központi kérdés, hogy a modellt milyen adatok alapján tudjuk elkészíteni. Abban az esetben, ha automatikusan szeretnénk a változást detektálni, és semmilyen előzetes ismerettel nem rendelkezünk egy adott területről, a tanító halmazt automatikusan kell kijelölni. Az ilyen módszereket felügyelet nélküli tanulásnak nevezik. Ezeknek a módszereknek hátránya főleg szegmentációs algoritmusok esetén szembetűnő, mivel ekkor nem tudjuk részletesen kontrollálni, hogy milyen szegmensek alakuljanak ki, így akár olyan szegmensek is kialakulhatnak, amelyeknek nincsen fizikai megfeleltetése. Földmegfigyelési esetekben azonban jellemzően az egy szegmensbe eső adatok egy fizikai kategóriába is tartoznak. Továbbá nehezíti a szegmentációs algoritmus tanítását, ha egyáltalán nem áll rendelkezésre ellenőrző adat, mivel ebben az esetben a szegmensek általános tulajdonságai alapján kell a modellt kiértékelni. TENDTENDTENDTENDTENDTEND']\n",
      "['\\nTSTARTTSTARTTSTARTTSTARTTSTARTTSTART és az elmúlt években publikált adatszettek TENDTENDTENDTENDTENDTEND']\n",
      "['\\nTSTARTTSTARTTSTARTTSTARTTSTARTTSTART megjelenése csökkentett lényegesen. További módszer az annotáció kiterjesztésére, hogy a meglévő annotációkból készítenek további annotációkat TENDTENDTENDTENDTENDTEND']\n",
      "['\\nTSTARTTSTARTTSTARTTSTARTTSTARTTSTART.TENDTENDTENDTENDTENDTEND']\n"
     ]
    }
   ],
   "source": [
    "for node in soup.all:\n",
    "    handle_text(node)"
   ]
  },
  {
   "cell_type": "code",
   "execution_count": 51,
   "metadata": {},
   "outputs": [
    {
     "data": {
      "text/plain": [
       "%----------------------------------------------------------------------------\n",
       "\\chapter{TSTARTElőzményekTEND}\n",
       "%----------------------------------------------------------------------------\n",
       "\\section{TSTARTFöldmegfigyelésTEND}\n",
       "%----------------------------------------------------------------------------\n",
       "TSTARTA földmegfigyelés feladata, hogy bolygónk felületéről minél pontosabb képet alkosson különböző technológiák segítségével. A legelterjedtebb módszer földmegfigyelésre különböző távérzékelési technológiák alkalmazása, a dolgozatomban kizárólag ilyen technológiákkal fogok foglalkozni. A telekommunikációs- és űrtechnológiák fejlődésével párhuzamosan egyre több műhold pásztázza a Földet, ami növeli a rendelkezésre álló adatok mennyiségét. Ezt az adatmennyiséget tovább növeli a drónok és egyéb olcsón elérhető repülő eszközök elterjedése, ami a földmegfigyeléshez használható nagy felbontású képek olcsó és gyors előállítását teszi lehetővé.Ezeknek az adatforrásoknak a rohamos növekedése számos informatikai és adatkezelési kihívás elé állította a földmegfigyeléssel foglalkozó kutatókat és szakembereket, emiatt számos technológiai újítás korai felhasználója a szakterület. Az így keletkező adattömegek segítségével különböző applikációk készíthetőek, melyek segítségével részletgazdag és precíz képet alkothatunk környezetünkről. Ezeknek az applikációknak a felhasználási területe nagyon széles, alkalmazzák többek között erdészeti és mezőgazdasági folyamatok támogatására, biodiverzitás és vegetáció vizsgálatára, időjárás és klíma vizsgálati módszereknél és előrejelzési, valamint katasztrófaelhárítási műveletek támogatására, továbbá harcászati alkalmazásokra.A földmegfigyelési módszerek által nyújtott lehetőségek segítenek a globális változások megfigyelésében és a gyorsan változó környezetünkhöz történő alkalmazkodásban.Az idősorok vizsgálatára alkalmas algoritmusok fejlődése segíthet többek között a klímaváltozáshoz kapcsolódó kérdések megválaszolásában is. Az így készült elemzések eredményei alapján megérthetik a szakemberek, hogy hogyan változik a Föld felszíne, és mi okozza ezeket a változásokat, valamint ennek segítségével megtervezhetik, hogyan gazdálkodhatunk jobban az erőforrásainkkal, vagy hogyan reagálhatunk eredményesen egy esetleges természeti katasztrófára.A nagyszámú adatforrás többek között új, fúziós technológiák kialakítását igényli, amelyek segítségével akár különböző modalitású képek információit is ki lehet nyerni, ezzel még jobban kihasználva a modern képalkotási technológiák széles tárházát.TEND%----------------------------------------------------------------------------\n",
       "\\section{TSTARTFöldmegfigyelési módszerekTEND}\n",
       "%----------------------------------------------------------------------------TSTARTA földmegfigyelésnek két egymástól nagymértékben különböző formája létezik; a műholdas és a repülőgépek segítségével történő képalkotás. A két módszer közötti legnagyobb különbség a felbontásban található.Műholdas képalkotás esetén a képet az atmoszférán kívül keringő űrberendezés segítségével rögzítjük. Ebben az esetben az atmoszféra egészén keresztül történik a képalkotás, ami bizonyos mértékig limitálja az elérhetőlegnagyobb optikai felbontást. A műholdról készült képek előnye, hogy Föld körüli keringésnek köszönhetően nagy területekről könnyen lehet rendszeresen képeket készíteni, egy adott területet periodikusan vizsgálni. Ugyanakkor ez a periodikusság hátránya is a módszernek, mivel nincsen lehetőség interaktív módon vagy bármilyen igénynek megfelelve tetszőleges időpontban képek rögzítésére. Az Európai Űrügynökség jelenleg több műholdat is üzemeltet, amelyeknek a rögzített képei ingyenesen elérhetőek. Ezek közül a legelterjedtebben használt a Sentinel-1 és Sentinel-2 műholdak (TEND\\ref{fig:sentinel1}TSTART ábra).Jelenleg a legelterjedtebb módszer az atmoszférán felül történő képalkotásra az UAV (Unmanned Aerial Veichle) módszerrel történő képalkotás. Az elmúlt években az UAV techonlógiák rohamos fejlődésével egyre fejlettebb szenzorok lettek elérhetőek egyre nagyobb tömegek számára, így az UAV segítségével készített képek minősége is nagy mértékű javuláson ment keresztül. A legjelentősebb javulást a felbontásban és a geolokáció regisztrációjában érték el, ezzel egészen milliméter pontosságú pontfelhők kialakítását lehetővé téve. Az UAV képalkotás esetén szükség van a képek összeregisztrálására, az artifactok korrigálására és a georeferálás elkészítésére, emiatt egy kép elkészítése a műholdképekkel összevetve több munkát igényel. Ugyanakkor az UAV sokkal nagyobb precizitást nyújt, és kisebb pénzügyi befektetést igényel.Változásdetekciós feladatok esetén egy területről több különböző időpontban kell felvételt készíteni, amely felvételek között a különbség megállapítható. Az ilyen több időpontot tartalmazó adatokat multitemporális adatnak hívják.TEND%----------------------------------------------------------------------------\n",
       "\\section{TSTARTAdatforrásokTEND}\n",
       "%----------------------------------------------------------------------------TSTARTA műholdakon történő képalkotáshoz két nagyobb képtípus köthető:TEND\\begin{itemize}\n",
       "    \\item Multispektrális képek\\\\\n",
       "A multispektális képeket közel fény tartományban készítik, optikai képalkotással, a beeső fényt a szenzor fénytartományának egyes sávjaira szűrve, és ezáltal csak ebben az egy sávban (channel) készítve egy monochromatikus képet. Egy műholdkép esetén egy-egy kép egyszerre akár 20 különböző sávban is készülhet, megközelítőleg azonos időpontban. Az így kapott csatornák képeit egy háromdimenziós mátrix-szal lehet reprezentálni, ahol az első két dimenzió az x és az y koordinátáké, míg a harmadik dimenzió a csatornáké.\n",
       "    \\begin{itemize}\n",
       "        \\item Multispektrális RGB képek \\\\\n",
       "A multispektrális képalkotás egyik fontos alesete az RGB képalkotás.Ekkor a képnek összesen három színcsatornája van,  ahol piros, zöld és kék színtartományban\n",
       "történik a képek rögzítése. A hiperspektrális képalkotástól annyiban tér el, hogy mindössze az RGB spektrum hármasát foglalja magába. Ennek a spektrális felbontásnak előnye, hogy a földmegfigyelésen kívül szinte az összes modern képfeldolgozási algoritmus ezt a képtípust haszálja. UAV képalkotásban különösen gyakori ez a képtípus.\n",
       "    \\end{itemize}\n",
       "    \\item Hiperspektrális képek\\\\\n",
       "A multispektrális képalkotó módszer hátránya, hogy a fény spektrumának nagy részét elnyelik a\n",
       "filterek, így a beeső fény energiája lényegesen legyengül. Mivel az LCD\n",
       "szenzorok bizonyos mennyiségű inherens zajjal rendelkeznek, annak\n",
       "érdekében, hogy a beérkező fotonok detektálhatóak legyenek, egy bizonyos\n",
       "energiaszintet el kell érniük. Ez az energia arányos a detektor pixelméretével, ezért ha a teljes spektrum beesik a szenzorba, lényegesen\n",
       "kisebb szenzor is elegendő. Ez az eset a hiperspektrális képalkotás, amikor a\n",
       "teljes energiatartományt, amiben a szenzor érzékelni képes, rögzítjük. Ez az energiatartomány nem csak a fénytartomány lehet, hanem a teljes elektromágneses frekvenicatartomány.\n",
       "    \\begin{itemize}\n",
       "        \\item Pankromatikus képek\\\\\n",
       "    A hiperspektrális képeknek egy fontos változata a pankromatikus kép, amely olyan hiperspektrális képet jelent, amely a teljes fénytartományt foglalja magába.\n",
       "    Jellemzően kétszeres felbontással rendelkezik a\n",
       "multispektrális képekhez képest, ezt a tulajdoságot használják ki például a\n",
       "pansharpening eljárások, ahol a pankromatikus kép segítségével\n",
       "felskálázzák a multispektrális képet a pankromatikus képpel azonos felbontásra \\cite{meng_review_2019}.\n",
       "    \\end{itemize}\n",
       "\\end{itemize}\n",
       "\n",
       "\\begin{figure}\n",
       "    \\centering\n",
       "    \\includegraphics[scale=0.8]{figures/Sentinel-1_sm.jpg} \\hspace{2cm}\n",
       "    \\includegraphics[scale=0.3]{figures/Sentinel-2-MSI_overview.jpg}\n",
       "    \\caption{TSTARTSentinel-1 és Sentinel-2 műholdak TEND\\cite{noauthor_user_nodate-1}}\n",
       "    \\label{fig:sentinel1}\n",
       "\\end{figure}\n",
       "\n",
       "%----------------------------------------------------------------------------\n",
       "\\section{TSTARTSentinel-1TEND}\n",
       "%----------------------------------------------------------------------------\n",
       "TSTARTA Sentinel-1 műholdsorozatot az Európai Űrügynökség (ESA) a Copernicus program részeként bocsátotta fel TEND\\cite{noauthor_user_nodate-1}TSTART.  A  Sentinel-1 műholdak nélkülözhetetlen eszközként szolgálnak a különböző földmegfigyelési alkalmazások számára létfontosságú adatok szolgáltatásában. A műholdak a képalkotáshoz szintetikus apertúrájú radartechnológiát (SAR) használnak, ezzel lehetővé téve a Föld felszínének folyamatos, időjárási viszonyoktól független megfigyelését. Ezzel az egyik leghasznosabb földmegfigyelési forrásnak számítanak, mivel az optikai módszereket gyakran korlátozza a felhőtakaró.Ezek a képek létfontosságúak az olyan természeti katasztrófák, mint az árvizek, földrengések és vulkánkitörések megfigyeléséhez, valamint a növénytermesztés felméréséhez és az illegális tevékenységek felderítéséhez. A műholdak interferometrikus termékeket is készítenek, amelyek lehetővé teszik a felszín deformációinak milliméteres pontosságú mérését.A Sentinel-1 különböző üzemmódokban működik, amelyekkel különböző felhasználási eseteknek tud megfelelni TEND\\cite{noauthor_sentinel_nodate}TSTART. Az első üzemmód, az Interferometric Wide Swath (IW), széles lefedettséget biztosít, átlagosan 250 kilométeres lefedettségi szélességgel. Ez az üzemmód ideális a nagyméretű változások, például az erdőirtás vagy jégtakaró dinamikájának megfigyelésére. A második üzemmód, az Extra Wide Swath (EW), 400 kilométeres szélességben mintavételez, így alkalmas hatalmas óceáni területek megfigyelésére, olajszennyeződések észlelésére és tengeri tevékenységek nyomon követésére. Hasonló funkcióra alkalmazhatóak a Wave (WV) nevű üzemmódban készített felvételek, amelyben a beeső sugarak polarizációját vizsgálja, így az óceán felszíni hullámainak és szélmintáinak rögzítésére alkalmazható, ami a tengeri előrejelzések és a tengeri műveletek szempontjából kulcsfontosságú.A Sentinel-1 emellett Stripmap (SM) üzemmódot is kínál, amely szűkebb, 80 kilométer széles sávokat figyel meg, cserébe nagy felbontású képeket készít. Ez az üzemmód különösen hasznos a részletes földtakaró-osztályozáshoz, a várostervezéshez és az infrastruktúra megfigyeléséhez. A dolgozatban használt adatok is ebben az üzemmódban készített felvételekből származnak. A Sentinel-1 nyers felvételeinek feldolgozását és ebből a termékek előállítását az ESA és partnerszervezetei végzik, biztosítva ezzel az adatok magas minőségét, szabványosítását és megfelelő kalibrálását.Az ESA a Sentinel-1 termékeknek három szintjét kínálja, amelyek mindegyike különböző szintű feldolgozást jelent. Ezek a termékszintek különböző felhasználói igényeknek felelnek meg, és egyre finomabb és speciálisabb adatokat szolgáltatnak TEND\\cite{noauthor_user_nodate}TSTART.0. szintű termékek: Ezek a Sentinel-1 műholdakból közvetlenül nyert nyers SAR-adattermékek. 1. szintű termékek:Ezek a termékek 0. szintű adatokból származnak, miután alapvető feldolgozási lépéseken mennek keresztül, beleértve a kalibrálást, a radiometriai korrekciót és a geometriai igazítást.  Ezek a termékek magasabb szintű használhatóságot biztosítanak, és alkalmasak vizuális értelmezésre, változásérzékelésre és alapvető térképészeti alkalmazásokra. Az 1. szintű termékek közé tartoznak a Single Look Complex (SLC), Ground Range Detected (GRD) és Detected (DET) termékek. A GRD termékek fókuszáltak, kalibráltak és egy földtávolsági koordinátarendszerbe vetítettek, míg a DET termékek detektáltak és kalibráltak, és intenzitásinformációt szolgáltatnak. Ezek a termékek az SM, IW és EW módban készült adatokhoz érhetőek el.2. szintű termékek: A 2. szintű termékek az 1. szintű adatokból származnak, és speciális alkalmazási területekhez lettek létrehozva. Ezek a termékek kifejezetten tematikus alkalmazásokra vannak szabva, és gyakran tudományos kutatásra, környezeti megfigyelésre és döntéshozatali célokra használják őket. A 2. szintű termékek közé tartoznak a különböző származtatott termékek, például az interferometrikus koherencia, a terepkorrigált képek, a felszíni deformációs térképek, valamint az óceáni szél- és hullámparaméterek. Ezek magyarországi viszonylatban, főleg változásdetekciós szempontból, kevésbé érdekesek.TEND%----------------------------------------------------------------------------\n",
       "\\section{TSTARTSentinel-2TEND}\n",
       "%----------------------------------------------------------------------------\n",
       "TSTARTA Sentinel-2 műholdak úgyszintén az ESA által a Copernicus program részeként kifejlesztett és üzemeltetett műholdmisszió részét képezik, céljuk a Föld szárazföldi és part menti területeinek megismerése. A 2015-ben indított Sentinel-2 küldetés két iker műholdból, a Sentinel-2A és a Sentinel-2B műholdakból álló konstelláció, amelyek egymást kiegészítve globális  szintű lefedettséget és öt napos periodikusságot biztosítanak TEND\\cite{noauthor_sentinel-2_nodate-1}TSTART.A műholdak napszinkron pályán keringenek a Föld körül a pólusok között, és ötnaponta globális lefedettséget biztosítanak. Ez a rendszeres visszatérési idő biztosítja az időszerű és pontos adatgyűjtést a földtakaró változásainak, a növényzet állapotának és a környezet változásainak a megfigyeléséhez. A műholdak push-broom képalkotási technikát alkalmaznak, amely során a műszer széles sávban pásztázza a Föld felszínét, miközben a pályája mentén halad. A felvett adatokat ezután a földi állomásokra továbbítják feldolgozásra és publikálásra. Az adattermékeket a Sentinel-1 műholdhoz hasonlóan az ESA készíti elő, majd publikálja. Az adatgyűjtés folyamatosan történik a műhold pályáját követve, egy adatfelvételből keletkező kép hossza akár 15 000 km is lehet.A műholdakat opto-elektronikus hiperspektrális érzékelővel (MSI) szerelték fel, amely a látható, a közeli infravörös (VNIR) és a rövidhullámú infravörös (SWIR) spektrumzónákban 10-60 m felbontású Sentinel-2 felvételeket készít TEND\\cite{noauthor_user_nodate}TSTART. Az érzékelő 13 spektrális csatornát tartalmaz, amelyek a TEND\\ref{fig:s2_hist}TSTART ábrán látható módon fedik le a spektrumot. Ezek a csatornák biztosítják a növényzet állapotában mutatkozó különbségek rögzítését, valamint rögzítik különböző légköri gőzök és gázok hatást is, többek között különböző felhőzetek hatásait. Ezen csatornák közül négy sáv 10 méteres, hat sáv 20 méteres és három sáv 60 méteres térbeli felbontásban érhető el a földfelszínhez korrigált ortofotó termékekben. Ezeknek a csatornáknak az átméretezéséhez különböző interpolációs algoritmusokat lehet használni, a lineáris interpolációtól kezdve akár neurális hálót alkalmazó megoldásokig TEND\\cite{lanaras_super-resolution_2018-1,sentunelhub_multitemporal}TSTART. Az ESA által rendelkezésre bocsátott termékek a SAFE formátumban elérhetőek, ez a file formátum ezeket az adatokat nyers képként tárolja, metaadatokkal.TEND\\begin{figure}\n",
       "    \\centering\n",
       "    \\includegraphics[scale=0.4]{figures/sentinel 2 spectral.jpeg}\n",
       "    \\caption{TSTARTSentinel-2 színcsaronák, és a hozzájuk tartozó átviteli függvények TEND\\cite{noauthor_sentinel-2_nodate} }\n",
       "    \\label{fig:s2_hist}\n",
       "\\end{figure}\n",
       "TSTARTA Sentinel-2 termékeknek is több szintjét kínálja az ESA:A Level-1B termék radiometrikusan korrigált képeket szolgáltat a légkör tetején mért (Top-Of-Atmosphere, TOA) sugárzási értékek és az érzékelő geometria tekintetében. Ezenkívül ez a termék tartalmazza a finomított geometriai modellt, amelyet a Level-1C termék előállításához használnak. A Level-1B pixelkoordináták az egyes pixelek középpontjára vonatkoznak. Ennél alacsonyabb szintű nyers adatok nem éhetőek el nyilvánosan.A Level-1C termék egy digitális magassági modell (DEM) felhasználásával készül, amely a képet térképi geometriába vetíti. A pixelenkénti radiometriai méréseket a TOA visszaverődési értékek formájában adják meg, illetve a radiometriai átalakításhoz szükséges paramétereket is csatolják. A Level-1C termékek újramintavételezése a különböző spektrális sávok natív felbontásától függően 10, 20 és 60 m-es állandó talajmintavételi távolsággal (GSD) történik. A Level-1C termékekben a pixelkoordináták a pixel bal felső sarkára vonatkoznak. A Level-1C termékek emellett minőségi információkat, például felhőmaszkot, és kiegészítő adatokat, többek között ECMWF-adatokat (teljes ózonoszlop, teljes vízgőzoszlop és átlagos tengerszint feletti nyomás) és  CAMS (Copernicus Atmosphere Monitoring Service) aeroszoltartalomra vonatkozó információkat is tartalmaznak.A Level-2A termék a kapcsolódó Level-1C termékekből származó, légköri szempontból korrigált felszíni reflexiós képeket (SR) szolgáltat. A képek légköri korrekciója magában foglalja a levegőmolekulák szóró hatásának (Rayleigh-szórás), a légköri gázok, különösen az ózon, az oxigén és a vízgőz elnyelő és szóró hatásának, valamint az aeroszol részecskék okozta elnyelés és szórás korrekcióját. Ezek a korrigált termékek 2019 óta szisztematikusan minden Level-1C termékhez elérhetőek.Az elérhető műholdképek rögzített méretű elemi csempékként kerülnek publikálásra. A Level-1B termékek esetében a csempék a tizenhárom MSI detektor által érzékelt nyers adatokat tartalmaznak, 23x25 TEND$km^2$TSTART méretű, szenzorgeometriájú kép formájában, míg a Level-1C és a Level-2A szintek esetében a csempék 110x110 TEND$km^2$TSTART-es ortoképek UTM/WGS84 vetületre leképezve.Ezen felül on-demand elérhetőek a Landsat műholdakkal kombinált fúziós termékek, a Level-2H és a Level-2F. Ezek a termékek a Landsat 8 és 9 műholdak multispektrális képeinek eredményeivel egészítik ki a Sentinel-2 műhold méréseit.TEND%----------------------------------------------------------------------------\n",
       "\\section{TSTARTVáltozásdetekciós módszerekTEND}\n",
       "%----------------------------------------------------------------------------\n",
       "TSTARTA változásdetekció alatt, földmegyfigyelési vonatkozásban, azt értjük, amikor kettő vagy több, azonos területet leképző, de különböző időpontban készült kép között szeretnénk megállapítani olyan különbségeket, amelyek a megfigyelt területen következtek be. Ennek számos motivációja lehet, többek között környezetvédelmi-, katasztrófaelhárítási célok vagy infrastrukturális fejlesztések monitorozása. Számos módszer található a szakirodalomban földmegyfigyelési változásdetekcióra, melyek két nagyobb csoportba sorolhatóak. Az egyik nagy csoport az objektum alapú változásdetekció, ahol objektumokat detektálnak a képeken, majd az így detektált objektumok közötti különbségeket vizsgálják TEND\\cite{shafique_deep_2022}TSTART. Ezek az eljárások főleg a neurális hálók és mélytanulási módszerek elterjedésével lettek népszerűek, mivel ezek a módszerek lehetővé tették, hogy a rendelkezésre álló adatokat egyszerűen fel lehessen annotálni, és így mély neurális hálókat tanítani segítségükkel. Ez a módszer nem teszi közvetlenül lehetővé, hogy pixelenkénti változásokat detektáljunk, ugyanakkor nagy felbontású műholdképek esetén konkrét objektumok felismerésére jól alkalmazható, és a felismert objektumok utólagos pixelenkénti szegmentálással kiegészíthetőek, ezzel áthidalva a korábbi limitációt.A másik módszer a kép pixelenkénti vizsgálata, amely a hagyományosabb módszerek alapját képezi. Ezeknek a módszereknek a lényege, hogy pixelenként összehasonlításra kerülnek a képek. Hátrányuk, hogy a különböző pixelfelbontású képek esetén megfelelő arányosítási stratégia szükséges. A pixelösszehasonlításon alapuló módszerek a következő kategóriákba csoportosíthatóak TEND\\cite{benedek_multilayer_2015,shafique_deep_2022}TSTART:TEND\\begin{itemize}\n",
       "    \\item Algebrai alapú változásdetekció\\\\\n",
       "    Ilyen módszerek során a képek közötti algebrai kapcsolatot vizsgáljuk. Ez történhet a pixelek közvetlen\n",
       "    összehasonlításával, ugyanakkor a legtöbb esetben a különböző időpontokban készült képek más spektrális tulajdonságokkal \n",
       "    rendelkeznek, így ez nem megbízható. A pixelek közötti különbséget leírhatjuk regressziós modellekkel, vagy ennél is \n",
       "    magasabb szintű matematikai modellekkel \\cite{karthik_change_2017}, amelyek a nem lineáris kapcsolatot a pixelek között \n",
       "    a lehető legjobban le tudják írni. Az így kapott pixel távolságokat elemezve megkapjuk a változást a képek között.\n",
       "    \\item Transzformáció alapú változásdetekció\\\\\n",
       "    Annak érdekében, hogy különböző modalitású képeket össze lehessen hasonlítani, a pixelek közötti különbség vizsgálata \n",
       "    helyett egy transzformációs műveletet definiálunk a két kép között, majd a változásokat a transzformáció hibájának \n",
       "    mértéke alapján határozzuk meg. Ez a transzformáció lehet KMEANS \\cite{celik_unsupervised_2009}, PCA \n",
       "    \\cite{celik_unsupervised_2009} vagy Gramm-Schmidt \\cite{sharma_change_2022} transzformáció, vagy különböző Markov \n",
       "    Random Tereken értelmezett módszerek \\cite{benedek_multilayer_2015,bruzzone_automatic_2000}. Ezeknek a módszereknek \n",
       "    előnye, hogy mutlimodális esetekben is tudnak működni. Hátrányuk, hogy érzékenyek a zajos képekre, amely bizonyos \n",
       "    műholdképek esetén elkerülhetetlen.\n",
       "    \\item Szegmentáció alapú változásdetekció\\\\\n",
       "    A képeket terhelő zaj kiküszöbölésére egy nagyon jó módszer, hogy előbb szegmentáljuk a képeket, majd az így kapott \n",
       "    szegmentációk között realizált változásokat vizsgáljuk. Ez a módszer igen elterjedt, mivel multitemporális képeken is \n",
       "    jól alkalmazható, a meglévő szegmentációs modelleket fel lehet hozzá használni. Ez utóbbi tulajdonsága miatt számos \n",
       "    neurális hálós megoldás is ezt a módszert használja változásdetekcióra \\cite{shafique_deep_2022}. A szegmentációk összehasonlítására számos módszert dolgoztak ki   \\cite{shafique_deep_2022,dimitrovski_current_2023,sziranyi_segmentation_2014,wang_how_2023}, mély neurális \n",
       "    hálókhoz, és Markov Random Terekhez egyaránt. \n",
       "    Ugyankkor a módszernek nagyon fontos része, hogy a szegmentáció jól működjön, és az összehasonlítandó képeken az osztályozás egyértelmű és koherens legyen. Amennyiben ez nem teljesül, a változásdetekció nem fog megfelelően működni.\n",
       "\\end{itemize}\n",
       "TSTARTA dolgozatomban Markov Véletlen Mező (Markov Random Field, MRF) alapú szegmentációval TEND\\cite{kato_phd_nodate}TSTART, és szegmentáció alapú változásdetekcióval TEND\\cite{benedek_multilayer_2015}TSTART foglalkozom. Az MRF modell alkalmazását változásdetekcióra a TEND\\cite{sziranyi_segmentation_2014}TSTART cikkben leírt fMRF módszerrel valósítottam meg. Az  MRF legnagyobb előnye a mélytanulási módszerekkel szemben, hogy mivel lokális tanításon alapszik, ezért tetszőleges számú multitemporális képre alkalmazható, nem feltétele, hogy korábbi ismeretekkel rendelkezzünk a képekről, vagy átfogó ismeretekkel más hasonló helyszínekről. Továbbá az eredmények statisztikailag definiált értékek, így mindegyikhez hozzárendelhető egy valószínűség, amely jól magyarázhatóan a statisztikai modellek alapján számítható, így a szegmentáció eredménye könnyebben magyarázható, mint a neurális hálókon alapuló módszereké. Az MRF modell matematikai hátteréből az következik, hogy a szegmentálás globálisan optimális TEND\\cite{kato_phd_nodate}TSTART, ugyanakkor a gyakorlatban ez nem feltétlen teljesül, de az optimalizáció egy globális optimum irányába történik.A másik nagy előnye az MRF modelleknek, hogy a tanítása kis hardver igényű egy neurális hálóhoz képest, és lényegesen kisebb tanítóhalmazt igényel. Ugyanakkor, mivel az MRF modellek alapjait jellemzően egyszerű statisztikai modellek képezik, ezek a modellek csak korlátozott mértékben tudják leírni az adatot, amit esetlegesen a neurális hálók lényegesen jobban, főleg nem lineáris adatok esetén. A neurális hálók teljesítménye ráadásul a tanítás után sokkal nagyobb, míg az MRF modellek esetén jellemzően minden alkalommal el kell végezni a statisztikai becslést, ami hosszabb időt vehet igénybe.A változásdetekciós módszerek kapcsán, és a földmegyfigyelési alkalmazás esetén még inkább, központi kérdés, hogy a modellt milyen adatok alapján tudjuk elkészíteni. Abban az esetben, ha automatikusan szeretnénk a változást detektálni, és semmilyen előzetes ismerettel nem rendelkezünk egy adott területről, a tanító halmazt automatikusan kell kijelölni. Az ilyen módszereket felügyelet nélküli tanulásnak nevezik. Ezeknek a módszereknek hátránya főleg szegmentációs algoritmusok esetén szembetűnő, mivel ekkor nem tudjuk részletesen kontrollálni, hogy milyen szegmensek alakuljanak ki, így akár olyan szegmensek is kialakulhatnak, amelyeknek nincsen fizikai megfeleltetése. Földmegfigyelési esetekben azonban jellemzően az egy szegmensbe eső adatok egy fizikai kategóriába is tartoznak. Továbbá nehezíti a szegmentációs algoritmus tanítását, ha egyáltalán nem áll rendelkezésre ellenőrző adat, mivel ebben az esetben a szegmensek általános tulajdonságai alapján kell a modellt kiértékelni. TEND\\TSTARTAmennyiben rendelkezünk tanító adatokkal, abban az esetben felügyelt tanítást tudunk végezni, ahol az adatokat tanító és ellenőrző csoportokba osztjuk. Ezen csoportok alapján megvizsgálható a szegmentációs algoritmus hatékonysága, és esetleges hátrányai, objektív metrikák szerint. A felügyelt tanítás nehézsége, hogy a képekhez annotációt kell készíteni, ami komoly erőforrásokat és időbefektetést igényel. Korábban ez volt a neurális hálós földmegfigyelés egyik legnagyobb korlátja, mivel jellemzően kevés nyilvános annotáció érhető el műholdképekhez, amit a transzfer tanulásTEND\\cite{dimitrovski_current_2023}TSTART és az elmúlt években publikált adatszettek TEND\\cite{noauthor_aitlas_nodate,castillo-navarro_semi-supervised_2022,noauthor_data_nodate}TSTART megjelenése csökkentett lényegesen. További módszer az annotáció kiterjesztésére, hogy a meglévő annotációkból készítenek további annotációkat TEND\\cite{castillo-navarro_semi-supervised_2022}TSTART.TEND"
      ]
     },
     "execution_count": 51,
     "metadata": {},
     "output_type": "execute_result"
    }
   ],
   "source": [
    "soup"
   ]
  },
  {
   "cell_type": "code",
   "execution_count": 93,
   "metadata": {},
   "outputs": [],
   "source": [
    "with open(Path('Diplomaterv/content/1_irodalom_eng.tex'),'w',encoding='utf-8') as f:\n",
    "    f.write(str(soup))"
   ]
  }
 ],
 "metadata": {
  "kernelspec": {
   "display_name": ".venv",
   "language": "python",
   "name": "python3"
  },
  "language_info": {
   "codemirror_mode": {
    "name": "ipython",
    "version": 3
   },
   "file_extension": ".py",
   "mimetype": "text/x-python",
   "name": "python",
   "nbconvert_exporter": "python",
   "pygments_lexer": "ipython3",
   "version": "3.10.5"
  }
 },
 "nbformat": 4,
 "nbformat_minor": 2
}
