{
 "cells": [
  {
   "cell_type": "code",
   "execution_count": 1,
   "metadata": {},
   "outputs": [
    {
     "name": "stdout",
     "output_type": "stream",
     "text": [
      "bin c:\\Data\\Programming\\llm\\.venv\\lib\\site-packages\\bitsandbytes\\libbitsandbytes_cuda121.dll\n"
     ]
    },
    {
     "data": {
      "text/plain": [
       "'Szeretem a pizzát'"
      ]
     },
     "execution_count": 1,
     "metadata": {},
     "output_type": "execute_result"
    }
   ],
   "source": [
    "from transformers import T5ForConditionalGeneration, T5Tokenizer\n",
    "\n",
    "model_name = 'jbochi/madlad400-3b-mt'\n",
    "model = T5ForConditionalGeneration.from_pretrained(model_name, device_map=\"cuda\",load_in_8bit=True)\n",
    "tokenizer = T5Tokenizer.from_pretrained(model_name)\n",
    "\n",
    "texts = \"<2hu> love pizza\"\n",
    "input_ids = tokenizer(texts, return_tensors=\"pt\").input_ids.to(model.device)\n",
    "outputs = model.generate(input_ids=input_ids,max_length=300)\n",
    "\n",
    "tokenizer.decode(outputs[0], skip_special_tokens=True)\n",
    "# Eu adoro pizza!"
   ]
  },
  {
   "cell_type": "code",
   "execution_count": 2,
   "metadata": {},
   "outputs": [
    {
     "data": {
      "text/plain": [
       "'The aim of this thesis is to develop Earth observation segmentation and change detection algorithms. Segmentation and change detection are very important parts of Earth observation, as one of the most common questions about the Earth is how it changes. During the European Space Agency (ESA) missions, satellite images of the Earth surface are constantly produced, repeatedly every few days, which are freely available. However, the processing of these images poses new challenges to current methods. The biggest challenge is the handling of multispectral images and the combination of different data sources. An excellent method for this task is the fusion Markov Random Field method, which not only allows the analysis of different image types, but also the analysis of multiple images.'"
      ]
     },
     "execution_count": 2,
     "metadata": {},
     "output_type": "execute_result"
    }
   ],
   "source": [
    "texts = [\"<2en> A diplomaterv célja földmegfigyelési szegmentációs és változásdetekciós algoritmusok fejlesztése. A szegmentáció és változásdetekció nagyon fontos részét képezik a földmegfigyelésnek, hiszen az egyik leggyakoribb kérdés a Földdel kapcsolatban, hogy hogyan változik. Az Európai Űrügynökség (ESA) missziói során folyamatosan, néhány naponta ismétlődve készít műholdképeket a Föld felszínéről, amelyek ingyenesen hozzáférhetőek. Ezeknek a képeknek a feldolgozása azonban új kihívásokat támaszt a jelenlegi módszerekkel szemben. A legnagyobb kihívás a mulitspektrális képek kezelése, illetve különböző adatforrások kombinálása. Erre a feladatra egy kiváló módszer a fúziós Markov Véletlen Mező módszer, amely nemcsak a különböző képtípusok.\",\n",
    "        \"<2en> Tesztelni kell, hogy a pont milyen token\",\n",
    "        \"<2en> Tesztelni kell, hogy a pont milyen token.\",\n",
    "        '<2en> .']\n",
    "input_ids = tokenizer(texts, padding=True, return_tensors=\"pt\").input_ids.to(model.device)\n",
    "outputs = model.generate(input_ids=input_ids,max_length=1e6)\n",
    "\n",
    "tokenizer.decode(outputs[0], skip_special_tokens=True)"
   ]
  },
  {
   "cell_type": "code",
   "execution_count": 4,
   "metadata": {},
   "outputs": [
    {
     "data": {
      "text/plain": [
       "['The aim of this thesis is to develop Earth observation segmentation and change detection algorithms. Segmentation and change detection are very important parts of Earth observation, as one of the most common questions about the Earth is how it changes. During the European Space Agency (ESA) missions, satellite images of the Earth surface are constantly produced, repeatedly every few days, which are freely available. However, the processing of these images poses new challenges to current methods. The biggest challenge is the handling of multispectral images and the combination of different data sources. An excellent method for this task is the fusion Markov Random Field method, which not only allows the analysis of different image types, but also the analysis of multiple images.',\n",
       " 'Testing what token the point is',\n",
       " 'It is necessary to test what token the point is.',\n",
       " '.']"
      ]
     },
     "execution_count": 4,
     "metadata": {},
     "output_type": "execute_result"
    }
   ],
   "source": [
    "all = [tokenizer.decode(output, skip_special_tokens=True) for output in outputs]\n",
    "all"
   ]
  },
  {
   "cell_type": "code",
   "execution_count": 16,
   "metadata": {},
   "outputs": [],
   "source": [
    "texts = [\"<2en> A diplomaterv célja földmegfigyelési szegmentációs és változásdetekciós algoritmusok fejlesztése. A szegmentáció és változásdetekció nagyon fontos részét képezik a földmegfigyelésnek, hiszen az egyik leggyakoribb kérdés a Földdel kapcsolatban, hogy hogyan változik. Az Európai Űrügynökség (ESA) missziói során folyamatosan, néhány naponta ismétlődve készít műholdképeket a Föld felszínéről, amelyek ingyenesen hozzáférhetőek. Ezeknek a képeknek a feldolgozása azonban új kihívásokat támaszt a jelenlegi módszerekkel szemben. A legnagyobb kihívás a mulitspektrális képek kezelése, illetve különböző adatforrások kombinálása. Erre a feladatra egy kiváló módszer a fúziós Markov Véletlen Mező módszer, amely nemcsak a különböző képtípusok fúzióját teszi lehetővé, de egy hatékony keretrendszert biztosít változásdetekcióra is.<2en> A diplomaterv célja földmegfigyelési szegmentációs és változásdetekciós algoritmusok fejlesztése. A szegmentáció és változásdetekció nagyon fontos részét képezik a földmegfigyelésnek, hiszen az egyik leggyakoribb kérdés a Földdel kapcsolatban, hogy hogyan változik. Az Európai Űrügynökség (ESA) missziói során folyamatosan, néhány naponta ismétlődve készít műholdképeket a Föld felszínéről, amelyek ingyenesen hozzáférhetőek. Ezeknek a képeknek a feldolgozása azonban új kihívásokat támaszt a jelenlegi módszerekkel szemben. A legnagyobb kihívás a mulitspektrális képek kezelése, illetve különböző adatforrások kombinálása. Erre a feladatra egy kiváló módszer a fúziós Markov Véletlen Mező módszer, amely nemcsak a különböző képtípusok fúzióját teszi lehetővé, de egy hatékony keretrendszert biztosít változásdetekcióra is.<2en> A diplomaterv célja földmegfigyelési szegmentációs és változásdetekciós algoritmusok fejlesztése. A szegmentáció és változásdetekció nagyon fontos részét képezik a földmegfigyelésnek, hiszen az egyik leggyakoribb kérdés a Földdel kapcsolatban, hogy hogyan változik. Az Európai Űrügynökség (ESA) missziói során folyamatosan, néhány naponta ismétlődve készít műholdképeket a Föld felszínéről, amelyek ingyenesen hozzáférhetőek. Ezeknek a képeknek a feldolgozása azonban új kihívásokat támaszt a jelenlegi módszerekkel szemben. A legnagyobb kihívás a mulitspektrális képek kezelése, illetve különböző adatforrások kombinálása. Erre a feladatra egy kiváló módszer a fúziós Markov Véletlen Mező módszer, amely nemcsak a különböző képtípusok fúzióját teszi lehetővé, de egy hatékony keretrendszert biztosít változásdetekcióra is.<2en> A diplomaterv célja földmegfigyelési szegmentációs és változásdetekciós algoritmusok fejlesztése. A szegmentáció és változásdetekció nagyon fontos részét képezik a földmegfigyelésnek, hiszen az egyik leggyakoribb kérdés a Földdel kapcsolatban, hogy hogyan változik. Az Európai Űrügynökség (ESA) missziói során folyamatosan, néhány naponta ismétlődve készít műholdképeket a Föld felszínéről, amelyek ingyenesen hozzáférhetőek. Ezeknek a képeknek a feldolgozása azonban új kihívásokat támaszt a jelenlegi módszerekkel szemben. A legnagyobb kihívás a mulitspektrális képek kezelése, illetve különböző adatforrások kombinálása. Erre a feladatra egy kiváló módszer a fúziós Markov Véletlen Mező módszer, amely nemcsak a különböző képtípusok fúzióját teszi lehetővé, de egy hatékony keretrendszert biztosít változásdetekcióra is.<2en> A diplomaterv célja földmegfigyelési szegmentációs és változásdetekciós algoritmusok fejlesztése. A szegmentáció és változásdetekció nagyon fontos részét képezik a földmegfigyelésnek, hiszen az egyik leggyakoribb kérdés a Földdel kapcsolatban, hogy hogyan változik. Az Európai Űrügynökség (ESA) missziói során folyamatosan, néhány naponta ismétlődve készít műholdképeket a Föld felszínéről, amelyek ingyenesen hozzáférhetőek. Ezeknek a képeknek a feldolgozása azonban új kihívásokat támaszt a jelenlegi módszerekkel szemben. A legnagyobb kihívás a mulitspektrális képek kezelése, illetve különböző adatforrások kombinálása. Erre a feladatra egy kiváló módszer a fúziós Markov Véletlen Mező módszer, amely nemcsak a különböző képtípusok fúzióját teszi lehetővé, de egy hatékony keretrendszert biztosít változásdetekcióra is.<2en> A diplomaterv célja földmegfigyelési szegmentációs és változásdetekciós algoritmusok fejlesztése. A szegmentáció és változásdetekció nagyon fontos részét képezik a földmegfigyelésnek, hiszen az egyik leggyakoribb kérdés a Földdel kapcsolatban, hogy hogyan változik. Az Európai Űrügynökség (ESA) missziói során folyamatosan, néhány naponta ismétlődve készít műholdképeket a Föld felszínéről, amelyek ingyenesen hozzáférhetőek. Ezeknek a képeknek a feldolgozása azonban új kihívásokat támaszt a jelenlegi módszerekkel szemben. A legnagyobb kihívás a mulitspektrális képek kezelése, illetve különböző adatforrások kombinálása. Erre a feladatra egy kiváló módszer a fúziós Markov Véletlen Mező módszer, amely nemcsak a különböző képtípusok fúzióját teszi lehetővé, de egy hatékony keretrendszert biztosít változásdetekcióra is.\",\n",
    "        \"<2en> Tesztelni kell, hogy a pont milyen token\",\n",
    "        \"<2en> Tesztelni kell, hogy a pont milyen token.\",\n",
    "        '<2en> .']\n",
    "input_ids = tokenizer(texts, padding=True, return_tensors=\"pt\").input_ids.to(model.device)"
   ]
  },
  {
   "cell_type": "code",
   "execution_count": 17,
   "metadata": {},
   "outputs": [
    {
     "data": {
      "text/plain": [
       "595"
      ]
     },
     "execution_count": 17,
     "metadata": {},
     "output_type": "execute_result"
    }
   ],
   "source": [
    "len(texts[0].split(' '))"
   ]
  },
  {
   "cell_type": "code",
   "execution_count": 18,
   "metadata": {},
   "outputs": [
    {
     "data": {
      "text/plain": [
       "1466"
      ]
     },
     "execution_count": 18,
     "metadata": {},
     "output_type": "execute_result"
    }
   ],
   "source": [
    "len(input_ids[0])"
   ]
  }
 ],
 "metadata": {
  "kernelspec": {
   "display_name": ".venv",
   "language": "python",
   "name": "python3"
  },
  "language_info": {
   "codemirror_mode": {
    "name": "ipython",
    "version": 3
   },
   "file_extension": ".py",
   "mimetype": "text/x-python",
   "name": "python",
   "nbconvert_exporter": "python",
   "pygments_lexer": "ipython3",
   "version": "3.10.5"
  }
 },
 "nbformat": 4,
 "nbformat_minor": 2
}
