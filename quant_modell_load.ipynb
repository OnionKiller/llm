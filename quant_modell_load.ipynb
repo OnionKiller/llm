{
 "cells": [
  {
   "cell_type": "code",
   "execution_count": 3,
   "metadata": {},
   "outputs": [
    {
     "name": "stdout",
     "output_type": "stream",
     "text": [
      "bin c:\\Data\\Programming\\llm\\.venv\\lib\\site-packages\\bitsandbytes\\libbitsandbytes_cuda121.dll\n"
     ]
    },
    {
     "data": {
      "text/plain": [
       "'Szeretem a pizzát'"
      ]
     },
     "execution_count": 3,
     "metadata": {},
     "output_type": "execute_result"
    }
   ],
   "source": [
    "from transformers import T5ForConditionalGeneration, T5Tokenizer\n",
    "\n",
    "model_name = 'jbochi/madlad400-3b-mt'\n",
    "model = T5ForConditionalGeneration.from_pretrained(model_name, device_map=\"cuda\",load_in_8bit=True)\n",
    "tokenizer = T5Tokenizer.from_pretrained(model_name)\n",
    "\n",
    "text = \"<2hu> love pizza\"\n",
    "input_ids = tokenizer(text, return_tensors=\"pt\").input_ids.to(model.device)\n",
    "outputs = model.generate(input_ids=input_ids,max_length=300)\n",
    "\n",
    "tokenizer.decode(outputs[0], skip_special_tokens=True)\n",
    "# Eu adoro pizza!"
   ]
  },
  {
   "cell_type": "code",
   "execution_count": 6,
   "metadata": {},
   "outputs": [
    {
     "data": {
      "text/plain": [
       "'The aim of this thesis is to develop Earth observation segmentation and change detection algorithms. Segmentation and change detection are very important parts of Earth observation, as one of the most common questions about the Earth is how it changes. The European Space Agency (ESA) constantly produces satellite images of the Earth surface every few days, which are freely available. However, the processing of these images poses new challenges to current methods. The biggest challenge is the handling of multispectral images and the combination of different data sources. An excellent method for this task is the fusion Markov Random Field method, which not only allows the fusion of different image types, but also provides an effective framework for change detection.'"
      ]
     },
     "execution_count": 6,
     "metadata": {},
     "output_type": "execute_result"
    }
   ],
   "source": [
    "text = \"<2en> A diplomaterv célja földmegfigyelési szegmentációs és változásdetekciós algoritmusok fejlesztése. A szegmentáció és változásdetekció nagyon fontos részét képezik a földmegfigyelésnek, hiszen az egyik leggyakoribb kérdés a Földdel kapcsolatban, hogy hogyan változik. Az Európai Űrügynökség (ESA) missziói során folyamatosan, néhány naponta ismétlődve készít műholdképeket a Föld felszínéről, amelyek ingyenesen hozzáférhetőek. Ezeknek a képeknek a feldolgozása azonban új kihívásokat támaszt a jelenlegi módszerekkel szemben. A legnagyobb kihívás a mulitspektrális képek kezelése, illetve különböző adatforrások kombinálása. Erre a feladatra egy kiváló módszer a fúziós Markov Véletlen Mező módszer, amely nemcsak a különböző képtípusok fúzióját teszi lehetővé, de egy hatékony keretrendszert biztosít változásdetekcióra is.\"\n",
    "input_ids = tokenizer(text, return_tensors=\"pt\").input_ids.to(model.device)\n",
    "outputs = model.generate(input_ids=input_ids,max_length=300)\n",
    "\n",
    "tokenizer.decode(outputs[0], skip_special_tokens=True)"
   ]
  }
 ],
 "metadata": {
  "kernelspec": {
   "display_name": ".venv",
   "language": "python",
   "name": "python3"
  },
  "language_info": {
   "codemirror_mode": {
    "name": "ipython",
    "version": 3
   },
   "file_extension": ".py",
   "mimetype": "text/x-python",
   "name": "python",
   "nbconvert_exporter": "python",
   "pygments_lexer": "ipython3",
   "version": "3.10.5"
  }
 },
 "nbformat": 4,
 "nbformat_minor": 2
}
